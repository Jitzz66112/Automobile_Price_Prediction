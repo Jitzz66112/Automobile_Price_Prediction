{
 "cells": [
  {
   "cell_type": "markdown",
   "metadata": {
    "colab_type": "text",
    "id": "_ne8BKVfWx7j"
   },
   "source": [
    "#**Automobile price prediction**"
   ]
  },
  {
   "cell_type": "code",
   "execution_count": 1,
   "metadata": {
    "colab": {
     "base_uri": "https://localhost:8080/",
     "height": 71
    },
    "colab_type": "code",
    "id": "0il2PFATV4IV",
    "outputId": "ade0caf8-8a62-4039-8cc5-2ab37d819d56"
   },
   "outputs": [
    {
     "name": "stderr",
     "output_type": "stream",
     "text": [
      "/usr/local/lib/python3.6/dist-packages/statsmodels/tools/_testing.py:19: FutureWarning: pandas.util.testing is deprecated. Use the functions in the public API at pandas.testing instead.\n",
      "  import pandas.util.testing as tm\n"
     ]
    }
   ],
   "source": [
    "import pandas as pd\n",
    "import numpy as np\n",
    "import datetime\n",
    "import matplotlib.pyplot as plt\n",
    "import seaborn as sns \n",
    "from datetime import datetime"
   ]
  },
  {
   "cell_type": "code",
   "execution_count": 2,
   "metadata": {
    "colab": {},
    "colab_type": "code",
    "id": "SwObY6afV4Ib"
   },
   "outputs": [],
   "source": [
    "df = pd.read_csv(\"AutoData (1).csv\")"
   ]
  },
  {
   "cell_type": "markdown",
   "metadata": {
    "colab_type": "text",
    "id": "ojqJQl-wXDa4"
   },
   "source": [
    "##Exploring automobile dataset"
   ]
  },
  {
   "cell_type": "code",
   "execution_count": 3,
   "metadata": {
    "colab": {
     "base_uri": "https://localhost:8080/",
     "height": 34
    },
    "colab_type": "code",
    "id": "8A03PhqWV4If",
    "outputId": "44a82f52-d217-439d-d4e8-4fc1f7dc0542"
   },
   "outputs": [
    {
     "data": {
      "text/plain": [
       "(205, 25)"
      ]
     },
     "execution_count": 3,
     "metadata": {
      "tags": []
     },
     "output_type": "execute_result"
    }
   ],
   "source": [
    "df.shape"
   ]
  },
  {
   "cell_type": "code",
   "execution_count": 4,
   "metadata": {
    "colab": {
     "base_uri": "https://localhost:8080/",
     "height": 119
    },
    "colab_type": "code",
    "id": "L7xF_xsSV4Ii",
    "outputId": "4c6b6547-71c3-4d95-b853-40a7fc79abdd"
   },
   "outputs": [
    {
     "data": {
      "text/plain": [
       "Index(['symboling', 'make', 'fueltype', 'aspiration', 'doornumber', 'carbody',\n",
       "       'drivewheel', 'enginelocation', 'wheelbase', 'carlength', 'carwidth',\n",
       "       'carheight', 'curbweight', 'enginetype', 'cylindernumber', 'enginesize',\n",
       "       'fuelsystem', 'boreratio', 'stroke', 'compressionratio', 'horsepower',\n",
       "       'peakrpm', 'citympg', 'highwaympg', 'price'],\n",
       "      dtype='object')"
      ]
     },
     "execution_count": 4,
     "metadata": {
      "tags": []
     },
     "output_type": "execute_result"
    }
   ],
   "source": [
    "df.columns"
   ]
  },
  {
   "cell_type": "code",
   "execution_count": 5,
   "metadata": {
    "colab": {
     "base_uri": "https://localhost:8080/",
     "height": 275
    },
    "colab_type": "code",
    "id": "a2t28pykV4Im",
    "outputId": "bff53524-a82d-4d21-d77f-b3c27e81e5c3"
   },
   "outputs": [
    {
     "data": {
      "text/html": [
       "<div>\n",
       "<style scoped>\n",
       "    .dataframe tbody tr th:only-of-type {\n",
       "        vertical-align: middle;\n",
       "    }\n",
       "\n",
       "    .dataframe tbody tr th {\n",
       "        vertical-align: top;\n",
       "    }\n",
       "\n",
       "    .dataframe thead th {\n",
       "        text-align: right;\n",
       "    }\n",
       "</style>\n",
       "<table border=\"1\" class=\"dataframe\">\n",
       "  <thead>\n",
       "    <tr style=\"text-align: right;\">\n",
       "      <th></th>\n",
       "      <th>symboling</th>\n",
       "      <th>make</th>\n",
       "      <th>fueltype</th>\n",
       "      <th>aspiration</th>\n",
       "      <th>doornumber</th>\n",
       "      <th>carbody</th>\n",
       "      <th>drivewheel</th>\n",
       "      <th>enginelocation</th>\n",
       "      <th>wheelbase</th>\n",
       "      <th>carlength</th>\n",
       "      <th>carwidth</th>\n",
       "      <th>carheight</th>\n",
       "      <th>curbweight</th>\n",
       "      <th>enginetype</th>\n",
       "      <th>cylindernumber</th>\n",
       "      <th>enginesize</th>\n",
       "      <th>fuelsystem</th>\n",
       "      <th>boreratio</th>\n",
       "      <th>stroke</th>\n",
       "      <th>compressionratio</th>\n",
       "      <th>horsepower</th>\n",
       "      <th>peakrpm</th>\n",
       "      <th>citympg</th>\n",
       "      <th>highwaympg</th>\n",
       "      <th>price</th>\n",
       "    </tr>\n",
       "  </thead>\n",
       "  <tbody>\n",
       "    <tr>\n",
       "      <th>0</th>\n",
       "      <td>3</td>\n",
       "      <td>alfa-romero giulia</td>\n",
       "      <td>gas</td>\n",
       "      <td>std</td>\n",
       "      <td>two</td>\n",
       "      <td>convertible</td>\n",
       "      <td>rwd</td>\n",
       "      <td>front</td>\n",
       "      <td>88.6</td>\n",
       "      <td>168.8</td>\n",
       "      <td>64.1</td>\n",
       "      <td>48.8</td>\n",
       "      <td>2548</td>\n",
       "      <td>dohc</td>\n",
       "      <td>four</td>\n",
       "      <td>130</td>\n",
       "      <td>mpfi</td>\n",
       "      <td>3.47</td>\n",
       "      <td>2.68</td>\n",
       "      <td>9.0</td>\n",
       "      <td>111</td>\n",
       "      <td>5000</td>\n",
       "      <td>21</td>\n",
       "      <td>27</td>\n",
       "      <td>13495.0</td>\n",
       "    </tr>\n",
       "    <tr>\n",
       "      <th>1</th>\n",
       "      <td>3</td>\n",
       "      <td>alfa-romero stelvio</td>\n",
       "      <td>gas</td>\n",
       "      <td>std</td>\n",
       "      <td>two</td>\n",
       "      <td>convertible</td>\n",
       "      <td>rwd</td>\n",
       "      <td>front</td>\n",
       "      <td>88.6</td>\n",
       "      <td>168.8</td>\n",
       "      <td>64.1</td>\n",
       "      <td>48.8</td>\n",
       "      <td>2548</td>\n",
       "      <td>dohc</td>\n",
       "      <td>four</td>\n",
       "      <td>130</td>\n",
       "      <td>mpfi</td>\n",
       "      <td>3.47</td>\n",
       "      <td>2.68</td>\n",
       "      <td>9.0</td>\n",
       "      <td>111</td>\n",
       "      <td>5000</td>\n",
       "      <td>21</td>\n",
       "      <td>27</td>\n",
       "      <td>16500.0</td>\n",
       "    </tr>\n",
       "    <tr>\n",
       "      <th>2</th>\n",
       "      <td>1</td>\n",
       "      <td>alfa-romero Quadrifoglio</td>\n",
       "      <td>gas</td>\n",
       "      <td>std</td>\n",
       "      <td>two</td>\n",
       "      <td>hatchback</td>\n",
       "      <td>rwd</td>\n",
       "      <td>front</td>\n",
       "      <td>94.5</td>\n",
       "      <td>171.2</td>\n",
       "      <td>65.5</td>\n",
       "      <td>52.4</td>\n",
       "      <td>2823</td>\n",
       "      <td>ohcv</td>\n",
       "      <td>six</td>\n",
       "      <td>152</td>\n",
       "      <td>mpfi</td>\n",
       "      <td>2.68</td>\n",
       "      <td>3.47</td>\n",
       "      <td>9.0</td>\n",
       "      <td>154</td>\n",
       "      <td>5000</td>\n",
       "      <td>19</td>\n",
       "      <td>26</td>\n",
       "      <td>16500.0</td>\n",
       "    </tr>\n",
       "    <tr>\n",
       "      <th>3</th>\n",
       "      <td>2</td>\n",
       "      <td>audi 100 ls</td>\n",
       "      <td>gas</td>\n",
       "      <td>std</td>\n",
       "      <td>four</td>\n",
       "      <td>sedan</td>\n",
       "      <td>fwd</td>\n",
       "      <td>front</td>\n",
       "      <td>99.8</td>\n",
       "      <td>176.6</td>\n",
       "      <td>66.2</td>\n",
       "      <td>54.3</td>\n",
       "      <td>2337</td>\n",
       "      <td>ohc</td>\n",
       "      <td>four</td>\n",
       "      <td>109</td>\n",
       "      <td>mpfi</td>\n",
       "      <td>3.19</td>\n",
       "      <td>3.40</td>\n",
       "      <td>10.0</td>\n",
       "      <td>102</td>\n",
       "      <td>5500</td>\n",
       "      <td>24</td>\n",
       "      <td>30</td>\n",
       "      <td>13950.0</td>\n",
       "    </tr>\n",
       "    <tr>\n",
       "      <th>4</th>\n",
       "      <td>2</td>\n",
       "      <td>audi 100ls</td>\n",
       "      <td>gas</td>\n",
       "      <td>std</td>\n",
       "      <td>four</td>\n",
       "      <td>sedan</td>\n",
       "      <td>4wd</td>\n",
       "      <td>front</td>\n",
       "      <td>99.4</td>\n",
       "      <td>176.6</td>\n",
       "      <td>66.4</td>\n",
       "      <td>54.3</td>\n",
       "      <td>2824</td>\n",
       "      <td>ohc</td>\n",
       "      <td>five</td>\n",
       "      <td>136</td>\n",
       "      <td>mpfi</td>\n",
       "      <td>3.19</td>\n",
       "      <td>3.40</td>\n",
       "      <td>8.0</td>\n",
       "      <td>115</td>\n",
       "      <td>5500</td>\n",
       "      <td>18</td>\n",
       "      <td>22</td>\n",
       "      <td>17450.0</td>\n",
       "    </tr>\n",
       "  </tbody>\n",
       "</table>\n",
       "</div>"
      ],
      "text/plain": [
       "   symboling                      make fueltype  ... citympg highwaympg    price\n",
       "0          3        alfa-romero giulia      gas  ...      21         27  13495.0\n",
       "1          3       alfa-romero stelvio      gas  ...      21         27  16500.0\n",
       "2          1  alfa-romero Quadrifoglio      gas  ...      19         26  16500.0\n",
       "3          2               audi 100 ls      gas  ...      24         30  13950.0\n",
       "4          2                audi 100ls      gas  ...      18         22  17450.0\n",
       "\n",
       "[5 rows x 25 columns]"
      ]
     },
     "execution_count": 5,
     "metadata": {
      "tags": []
     },
     "output_type": "execute_result"
    }
   ],
   "source": [
    "df.head()"
   ]
  },
  {
   "cell_type": "code",
   "execution_count": 6,
   "metadata": {
    "colab": {
     "base_uri": "https://localhost:8080/",
     "height": 561
    },
    "colab_type": "code",
    "id": "hyd9_bVCV4Iq",
    "outputId": "73314638-9379-4baa-f35b-18066acb3ae5"
   },
   "outputs": [
    {
     "name": "stdout",
     "output_type": "stream",
     "text": [
      "<class 'pandas.core.frame.DataFrame'>\n",
      "RangeIndex: 205 entries, 0 to 204\n",
      "Data columns (total 25 columns):\n",
      " #   Column            Non-Null Count  Dtype  \n",
      "---  ------            --------------  -----  \n",
      " 0   symboling         205 non-null    int64  \n",
      " 1   make              205 non-null    object \n",
      " 2   fueltype          205 non-null    object \n",
      " 3   aspiration        205 non-null    object \n",
      " 4   doornumber        205 non-null    object \n",
      " 5   carbody           205 non-null    object \n",
      " 6   drivewheel        205 non-null    object \n",
      " 7   enginelocation    205 non-null    object \n",
      " 8   wheelbase         205 non-null    float64\n",
      " 9   carlength         205 non-null    float64\n",
      " 10  carwidth          205 non-null    float64\n",
      " 11  carheight         205 non-null    float64\n",
      " 12  curbweight        205 non-null    int64  \n",
      " 13  enginetype        205 non-null    object \n",
      " 14  cylindernumber    205 non-null    object \n",
      " 15  enginesize        205 non-null    int64  \n",
      " 16  fuelsystem        205 non-null    object \n",
      " 17  boreratio         205 non-null    float64\n",
      " 18  stroke            205 non-null    float64\n",
      " 19  compressionratio  205 non-null    float64\n",
      " 20  horsepower        205 non-null    int64  \n",
      " 21  peakrpm           205 non-null    int64  \n",
      " 22  citympg           205 non-null    int64  \n",
      " 23  highwaympg        205 non-null    int64  \n",
      " 24  price             205 non-null    float64\n",
      "dtypes: float64(8), int64(7), object(10)\n",
      "memory usage: 40.2+ KB\n"
     ]
    }
   ],
   "source": [
    "df.info()"
   ]
  },
  {
   "cell_type": "code",
   "execution_count": 7,
   "metadata": {
    "colab": {
     "base_uri": "https://localhost:8080/",
     "height": 317
    },
    "colab_type": "code",
    "id": "-i-677g9V4It",
    "outputId": "1e084344-0d41-48de-83de-be940cc42074"
   },
   "outputs": [
    {
     "data": {
      "text/html": [
       "<div>\n",
       "<style scoped>\n",
       "    .dataframe tbody tr th:only-of-type {\n",
       "        vertical-align: middle;\n",
       "    }\n",
       "\n",
       "    .dataframe tbody tr th {\n",
       "        vertical-align: top;\n",
       "    }\n",
       "\n",
       "    .dataframe thead th {\n",
       "        text-align: right;\n",
       "    }\n",
       "</style>\n",
       "<table border=\"1\" class=\"dataframe\">\n",
       "  <thead>\n",
       "    <tr style=\"text-align: right;\">\n",
       "      <th></th>\n",
       "      <th>symboling</th>\n",
       "      <th>wheelbase</th>\n",
       "      <th>carlength</th>\n",
       "      <th>carwidth</th>\n",
       "      <th>carheight</th>\n",
       "      <th>curbweight</th>\n",
       "      <th>enginesize</th>\n",
       "      <th>boreratio</th>\n",
       "      <th>stroke</th>\n",
       "      <th>compressionratio</th>\n",
       "      <th>horsepower</th>\n",
       "      <th>peakrpm</th>\n",
       "      <th>citympg</th>\n",
       "      <th>highwaympg</th>\n",
       "      <th>price</th>\n",
       "    </tr>\n",
       "  </thead>\n",
       "  <tbody>\n",
       "    <tr>\n",
       "      <th>count</th>\n",
       "      <td>205.000000</td>\n",
       "      <td>205.000000</td>\n",
       "      <td>205.000000</td>\n",
       "      <td>205.000000</td>\n",
       "      <td>205.000000</td>\n",
       "      <td>205.000000</td>\n",
       "      <td>205.000000</td>\n",
       "      <td>205.000000</td>\n",
       "      <td>205.000000</td>\n",
       "      <td>205.000000</td>\n",
       "      <td>205.000000</td>\n",
       "      <td>205.000000</td>\n",
       "      <td>205.000000</td>\n",
       "      <td>205.000000</td>\n",
       "      <td>205.000000</td>\n",
       "    </tr>\n",
       "    <tr>\n",
       "      <th>mean</th>\n",
       "      <td>0.834146</td>\n",
       "      <td>98.756585</td>\n",
       "      <td>174.049268</td>\n",
       "      <td>65.907805</td>\n",
       "      <td>53.724878</td>\n",
       "      <td>2555.565854</td>\n",
       "      <td>126.907317</td>\n",
       "      <td>3.329756</td>\n",
       "      <td>3.255415</td>\n",
       "      <td>10.142537</td>\n",
       "      <td>104.117073</td>\n",
       "      <td>5125.121951</td>\n",
       "      <td>25.219512</td>\n",
       "      <td>30.751220</td>\n",
       "      <td>13276.709756</td>\n",
       "    </tr>\n",
       "    <tr>\n",
       "      <th>std</th>\n",
       "      <td>1.245307</td>\n",
       "      <td>6.021776</td>\n",
       "      <td>12.337289</td>\n",
       "      <td>2.145204</td>\n",
       "      <td>2.443522</td>\n",
       "      <td>520.680204</td>\n",
       "      <td>41.642693</td>\n",
       "      <td>0.270844</td>\n",
       "      <td>0.313597</td>\n",
       "      <td>3.972040</td>\n",
       "      <td>39.544167</td>\n",
       "      <td>476.985643</td>\n",
       "      <td>6.542142</td>\n",
       "      <td>6.886443</td>\n",
       "      <td>7988.851862</td>\n",
       "    </tr>\n",
       "    <tr>\n",
       "      <th>min</th>\n",
       "      <td>-2.000000</td>\n",
       "      <td>86.600000</td>\n",
       "      <td>141.100000</td>\n",
       "      <td>60.300000</td>\n",
       "      <td>47.800000</td>\n",
       "      <td>1488.000000</td>\n",
       "      <td>61.000000</td>\n",
       "      <td>2.540000</td>\n",
       "      <td>2.070000</td>\n",
       "      <td>7.000000</td>\n",
       "      <td>48.000000</td>\n",
       "      <td>4150.000000</td>\n",
       "      <td>13.000000</td>\n",
       "      <td>16.000000</td>\n",
       "      <td>5118.000000</td>\n",
       "    </tr>\n",
       "    <tr>\n",
       "      <th>25%</th>\n",
       "      <td>0.000000</td>\n",
       "      <td>94.500000</td>\n",
       "      <td>166.300000</td>\n",
       "      <td>64.100000</td>\n",
       "      <td>52.000000</td>\n",
       "      <td>2145.000000</td>\n",
       "      <td>97.000000</td>\n",
       "      <td>3.150000</td>\n",
       "      <td>3.110000</td>\n",
       "      <td>8.600000</td>\n",
       "      <td>70.000000</td>\n",
       "      <td>4800.000000</td>\n",
       "      <td>19.000000</td>\n",
       "      <td>25.000000</td>\n",
       "      <td>7788.000000</td>\n",
       "    </tr>\n",
       "    <tr>\n",
       "      <th>50%</th>\n",
       "      <td>1.000000</td>\n",
       "      <td>97.000000</td>\n",
       "      <td>173.200000</td>\n",
       "      <td>65.500000</td>\n",
       "      <td>54.100000</td>\n",
       "      <td>2414.000000</td>\n",
       "      <td>120.000000</td>\n",
       "      <td>3.310000</td>\n",
       "      <td>3.290000</td>\n",
       "      <td>9.000000</td>\n",
       "      <td>95.000000</td>\n",
       "      <td>5200.000000</td>\n",
       "      <td>24.000000</td>\n",
       "      <td>30.000000</td>\n",
       "      <td>10295.000000</td>\n",
       "    </tr>\n",
       "    <tr>\n",
       "      <th>75%</th>\n",
       "      <td>2.000000</td>\n",
       "      <td>102.400000</td>\n",
       "      <td>183.100000</td>\n",
       "      <td>66.900000</td>\n",
       "      <td>55.500000</td>\n",
       "      <td>2935.000000</td>\n",
       "      <td>141.000000</td>\n",
       "      <td>3.580000</td>\n",
       "      <td>3.410000</td>\n",
       "      <td>9.400000</td>\n",
       "      <td>116.000000</td>\n",
       "      <td>5500.000000</td>\n",
       "      <td>30.000000</td>\n",
       "      <td>34.000000</td>\n",
       "      <td>16503.000000</td>\n",
       "    </tr>\n",
       "    <tr>\n",
       "      <th>max</th>\n",
       "      <td>3.000000</td>\n",
       "      <td>120.900000</td>\n",
       "      <td>208.100000</td>\n",
       "      <td>72.300000</td>\n",
       "      <td>59.800000</td>\n",
       "      <td>4066.000000</td>\n",
       "      <td>326.000000</td>\n",
       "      <td>3.940000</td>\n",
       "      <td>4.170000</td>\n",
       "      <td>23.000000</td>\n",
       "      <td>288.000000</td>\n",
       "      <td>6600.000000</td>\n",
       "      <td>49.000000</td>\n",
       "      <td>54.000000</td>\n",
       "      <td>45400.000000</td>\n",
       "    </tr>\n",
       "  </tbody>\n",
       "</table>\n",
       "</div>"
      ],
      "text/plain": [
       "        symboling   wheelbase   carlength  ...     citympg  highwaympg         price\n",
       "count  205.000000  205.000000  205.000000  ...  205.000000  205.000000    205.000000\n",
       "mean     0.834146   98.756585  174.049268  ...   25.219512   30.751220  13276.709756\n",
       "std      1.245307    6.021776   12.337289  ...    6.542142    6.886443   7988.851862\n",
       "min     -2.000000   86.600000  141.100000  ...   13.000000   16.000000   5118.000000\n",
       "25%      0.000000   94.500000  166.300000  ...   19.000000   25.000000   7788.000000\n",
       "50%      1.000000   97.000000  173.200000  ...   24.000000   30.000000  10295.000000\n",
       "75%      2.000000  102.400000  183.100000  ...   30.000000   34.000000  16503.000000\n",
       "max      3.000000  120.900000  208.100000  ...   49.000000   54.000000  45400.000000\n",
       "\n",
       "[8 rows x 15 columns]"
      ]
     },
     "execution_count": 7,
     "metadata": {
      "tags": []
     },
     "output_type": "execute_result"
    }
   ],
   "source": [
    "df.describe()"
   ]
  },
  {
   "cell_type": "code",
   "execution_count": 8,
   "metadata": {
    "colab": {
     "base_uri": "https://localhost:8080/",
     "height": 459
    },
    "colab_type": "code",
    "id": "FXs-lcBIV4Ix",
    "outputId": "ff6d41a8-ec85-4c92-eaf0-612bfdde8bbd"
   },
   "outputs": [
    {
     "data": {
      "text/plain": [
       "symboling           0\n",
       "make                0\n",
       "fueltype            0\n",
       "aspiration          0\n",
       "doornumber          0\n",
       "carbody             0\n",
       "drivewheel          0\n",
       "enginelocation      0\n",
       "wheelbase           0\n",
       "carlength           0\n",
       "carwidth            0\n",
       "carheight           0\n",
       "curbweight          0\n",
       "enginetype          0\n",
       "cylindernumber      0\n",
       "enginesize          0\n",
       "fuelsystem          0\n",
       "boreratio           0\n",
       "stroke              0\n",
       "compressionratio    0\n",
       "horsepower          0\n",
       "peakrpm             0\n",
       "citympg             0\n",
       "highwaympg          0\n",
       "price               0\n",
       "dtype: int64"
      ]
     },
     "execution_count": 8,
     "metadata": {
      "tags": []
     },
     "output_type": "execute_result"
    }
   ],
   "source": [
    "df.isnull().sum()"
   ]
  },
  {
   "cell_type": "code",
   "execution_count": 9,
   "metadata": {
    "colab": {
     "base_uri": "https://localhost:8080/",
     "height": 459
    },
    "colab_type": "code",
    "id": "4pO0kfLwV4I0",
    "outputId": "15bf0aea-85bb-4b75-a8b0-91c323822318"
   },
   "outputs": [
    {
     "data": {
      "text/plain": [
       "symboling           0.0\n",
       "make                0.0\n",
       "fueltype            0.0\n",
       "aspiration          0.0\n",
       "doornumber          0.0\n",
       "carbody             0.0\n",
       "drivewheel          0.0\n",
       "enginelocation      0.0\n",
       "wheelbase           0.0\n",
       "carlength           0.0\n",
       "carwidth            0.0\n",
       "carheight           0.0\n",
       "curbweight          0.0\n",
       "enginetype          0.0\n",
       "cylindernumber      0.0\n",
       "enginesize          0.0\n",
       "fuelsystem          0.0\n",
       "boreratio           0.0\n",
       "stroke              0.0\n",
       "compressionratio    0.0\n",
       "horsepower          0.0\n",
       "peakrpm             0.0\n",
       "citympg             0.0\n",
       "highwaympg          0.0\n",
       "price               0.0\n",
       "dtype: float64"
      ]
     },
     "execution_count": 9,
     "metadata": {
      "tags": []
     },
     "output_type": "execute_result"
    }
   ],
   "source": [
    "dups = df.duplicated()\n",
    "df[dups].sum()"
   ]
  },
  {
   "cell_type": "markdown",
   "metadata": {
    "colab_type": "text",
    "id": "1MBDvG8dXJwD"
   },
   "source": [
    "##Exploring Columns (Categorical Variables)"
   ]
  },
  {
   "cell_type": "code",
   "execution_count": 10,
   "metadata": {
    "colab": {
     "base_uri": "https://localhost:8080/",
     "height": 136
    },
    "colab_type": "code",
    "id": "Os81VwkoV4I3",
    "outputId": "8afb5a63-b3dc-45ff-88f5-6dd1d89c7c7e"
   },
   "outputs": [
    {
     "data": {
      "text/plain": [
       " 0    67\n",
       " 1    54\n",
       " 2    32\n",
       " 3    27\n",
       "-1    22\n",
       "-2     3\n",
       "Name: symboling, dtype: int64"
      ]
     },
     "execution_count": 10,
     "metadata": {
      "tags": []
     },
     "output_type": "execute_result"
    }
   ],
   "source": [
    "df['symboling'].value_counts()"
   ]
  },
  {
   "cell_type": "code",
   "execution_count": 11,
   "metadata": {
    "colab": {
     "base_uri": "https://localhost:8080/",
     "height": 221
    },
    "colab_type": "code",
    "id": "FwBExocHV4I7",
    "outputId": "90480fbf-a753-4ad4-a9f2-43dc89daac5d"
   },
   "outputs": [
    {
     "data": {
      "text/plain": [
       "toyota corolla               6\n",
       "toyota corona                6\n",
       "peugeot 504                  6\n",
       "subaru dl                    4\n",
       "mitsubishi outlander         3\n",
       "                            ..\n",
       "plymouth fury gran sedan     1\n",
       "volkswagen model 111         1\n",
       "peugeot 304                  1\n",
       "toyota celica gt liftback    1\n",
       "bmw z4                       1\n",
       "Name: make, Length: 147, dtype: int64"
      ]
     },
     "execution_count": 11,
     "metadata": {
      "tags": []
     },
     "output_type": "execute_result"
    }
   ],
   "source": [
    "df['make'].value_counts()"
   ]
  },
  {
   "cell_type": "code",
   "execution_count": 12,
   "metadata": {
    "colab": {
     "base_uri": "https://localhost:8080/",
     "height": 68
    },
    "colab_type": "code",
    "id": "651YeqwAV4I-",
    "outputId": "4ec93f17-832d-45be-d35e-21c6015350e1"
   },
   "outputs": [
    {
     "data": {
      "text/plain": [
       "gas       185\n",
       "diesel     20\n",
       "Name: fueltype, dtype: int64"
      ]
     },
     "execution_count": 12,
     "metadata": {
      "tags": []
     },
     "output_type": "execute_result"
    }
   ],
   "source": [
    "df['fueltype'].value_counts()"
   ]
  },
  {
   "cell_type": "code",
   "execution_count": 13,
   "metadata": {
    "colab": {
     "base_uri": "https://localhost:8080/",
     "height": 119
    },
    "colab_type": "code",
    "id": "xdwQN5_uV4JB",
    "outputId": "6fe20951-d4e7-4233-c580-7fe03807d97c"
   },
   "outputs": [
    {
     "data": {
      "text/plain": [
       "sedan          96\n",
       "hatchback      70\n",
       "wagon          25\n",
       "hardtop         8\n",
       "convertible     6\n",
       "Name: carbody, dtype: int64"
      ]
     },
     "execution_count": 13,
     "metadata": {
      "tags": []
     },
     "output_type": "execute_result"
    }
   ],
   "source": [
    "df['carbody'].value_counts()"
   ]
  },
  {
   "cell_type": "markdown",
   "metadata": {
    "colab_type": "text",
    "id": "6mvIIRM9XTEt"
   },
   "source": [
    "##Exploring target variable"
   ]
  },
  {
   "cell_type": "code",
   "execution_count": 14,
   "metadata": {
    "colab": {
     "base_uri": "https://localhost:8080/",
     "height": 153
    },
    "colab_type": "code",
    "id": "bzH0Q-TmV4JD",
    "outputId": "98b1695a-557f-4959-8660-da0a6cbc2311"
   },
   "outputs": [
    {
     "data": {
      "text/plain": [
       "ohc      148\n",
       "ohcf      15\n",
       "ohcv      13\n",
       "l         12\n",
       "dohc      12\n",
       "rotor      4\n",
       "dohcv      1\n",
       "Name: enginetype, dtype: int64"
      ]
     },
     "execution_count": 14,
     "metadata": {
      "tags": []
     },
     "output_type": "execute_result"
    }
   ],
   "source": [
    "df['enginetype'].value_counts()"
   ]
  },
  {
   "cell_type": "code",
   "execution_count": 15,
   "metadata": {
    "colab": {
     "base_uri": "https://localhost:8080/",
     "height": 296
    },
    "colab_type": "code",
    "id": "_lyhyM4MV4JG",
    "outputId": "ac277771-2383-48a9-c982-58f8719605c9"
   },
   "outputs": [
    {
     "data": {
      "text/plain": [
       "<matplotlib.axes._subplots.AxesSubplot at 0x7f7247e8e588>"
      ]
     },
     "execution_count": 15,
     "metadata": {
      "tags": []
     },
     "output_type": "execute_result"
    },
    {
     "data": {
      "image/png": "[encoded data removed]",
      "text/plain": [
       "<Figure size 432x288 with 1 Axes>"
      ]
     },
     "metadata": {
      "needs_background": "light",
      "tags": []
     },
     "output_type": "display_data"
    }
   ],
   "source": [
    "sns.distplot(df['price'])"
   ]
  },
  {
   "cell_type": "markdown",
   "metadata": {
    "colab_type": "text",
    "id": "0fYo8_0mXYVK"
   },
   "source": [
    "We can easily observe that the data is positively skewed as shown in the above distplot."
   ]
  },
  {
   "cell_type": "code",
   "execution_count": 16,
   "metadata": {
    "colab": {},
    "colab_type": "code",
    "id": "diyYrvjDV4JK"
   },
   "outputs": [],
   "source": [
    "df['brand'] = df.make.str.split(' ').str.get(0).str.upper()"
   ]
  },
  {
   "cell_type": "code",
   "execution_count": 17,
   "metadata": {
    "colab": {},
    "colab_type": "code",
    "id": "rpFCe5foV4JN"
   },
   "outputs": [],
   "source": [
    "df['brand'] = df['brand'].replace(['VW', 'VOKSWAGEN'], 'VOLKSWAGEN')\n",
    "df['brand'] = df['brand'].replace(['MAXDA'], 'MAZDA')\n",
    "df['brand'] = df['brand'].replace(['PORCSHCE'], 'PORSCHE')\n",
    "df['brand'] = df['brand'].replace(['TOYOUTA'], 'TOYOTA')"
   ]
  },
  {
   "cell_type": "code",
   "execution_count": 18,
   "metadata": {
    "colab": {
     "base_uri": "https://localhost:8080/",
     "height": 102
    },
    "colab_type": "code",
    "id": "f_mSxfVUV4JQ",
    "outputId": "929acb08-7f2a-43cd-a4a2-3a657ee1cb2a"
   },
   "outputs": [
    {
     "data": {
      "text/plain": [
       "count        205\n",
       "unique        22\n",
       "top       TOYOTA\n",
       "freq          32\n",
       "Name: brand, dtype: object"
      ]
     },
     "execution_count": 18,
     "metadata": {
      "tags": []
     },
     "output_type": "execute_result"
    }
   ],
   "source": [
    "df['brand'].describe()"
   ]
  },
  {
   "cell_type": "code",
   "execution_count": 19,
   "metadata": {
    "colab": {
     "base_uri": "https://localhost:8080/",
     "height": 412
    },
    "colab_type": "code",
    "id": "DdPDWMA8Xkha",
    "outputId": "501aabe5-aaf7-4d11-e2bb-ad78af8928b1"
   },
   "outputs": [
    {
     "data": {
      "text/plain": [
       "[Text(0, 0.5, 'Avg Price ($)'), Text(0.5, 0, 'Brand')]"
      ]
     },
     "execution_count": 19,
     "metadata": {
      "tags": []
     },
     "output_type": "execute_result"
    },
    {
     "data": {
      "image/png": "[encoded data removed]",
      "text/plain": [
       "<Figure size 1080x360 with 1 Axes>"
      ]
     },
     "metadata": {
      "needs_background": "light",
      "tags": []
     },
     "output_type": "display_data"
    }
   ],
   "source": [
    "avg_price = df[['brand','price']].groupby(\"brand\", as_index = False).mean().rename(columns={'price':'brand_avg_price'})\n",
    "plt = avg_price.plot(x = 'brand', kind='bar',legend = False, sort_columns = True, figsize = (15,5),color=\"skyblue\")\n",
    "plt.set(xlabel=\"Brand\",ylabel=\"Avg Price ($)\")"
   ]
  },
  {
   "cell_type": "code",
   "execution_count": 20,
   "metadata": {
    "colab": {},
    "colab_type": "code",
    "id": "9vePRQ6vV4JU"
   },
   "outputs": [],
   "source": [
    "df['brand_category'] = df['price'].apply(lambda x : \"Lower_Range\" if x < 10000 \n",
    "                                                     else (\"Middle_Range\" if 10000 <= x < 20000\n",
    "                                                           else \"Luxury\"))"
   ]
  },
  {
   "cell_type": "code",
   "execution_count": 21,
   "metadata": {
    "colab": {
     "base_uri": "https://localhost:8080/",
     "height": 296
    },
    "colab_type": "code",
    "id": "cFVB-9lVXv15",
    "outputId": "8043bb86-19d2-428c-dde2-6d76abe08987"
   },
   "outputs": [
    {
     "data": {
      "text/plain": [
       "[Text(0, 0.5, 'Avg Price($)'), Text(0.5, 0, 'Symbol')]"
      ]
     },
     "execution_count": 21,
     "metadata": {
      "tags": []
     },
     "output_type": "execute_result"
    },
    {
     "data": {
      "image/png": "[encoded data removed]",
      "text/plain": [
       "<Figure size 432x288 with 1 Axes>"
      ]
     },
     "metadata": {
      "needs_background": "light",
      "tags": []
     },
     "output_type": "display_data"
    }
   ],
   "source": [
    "plt = df[['symboling','price']].groupby(\"symboling\").mean().plot(kind='bar',legend = False,)\n",
    "plt.set(xlabel='Symbol',ylabel='Avg Price($)')"
   ]
  },
  {
   "cell_type": "code",
   "execution_count": 22,
   "metadata": {
    "colab": {
     "base_uri": "https://localhost:8080/",
     "height": 316
    },
    "colab_type": "code",
    "id": "AolbN90dX3yJ",
    "outputId": "c093d895-31d6-4272-e3f5-d8448032f911"
   },
   "outputs": [
    {
     "data": {
      "text/plain": [
       "[Text(0, 0.5, 'Avg Price($)'), Text(0.5, 0, 'Fuel Type')]"
      ]
     },
     "execution_count": 22,
     "metadata": {
      "tags": []
     },
     "output_type": "execute_result"
    },
    {
     "data": {
      "image/png": "[encoded data removed]",
      "text/plain": [
       "<Figure size 432x288 with 1 Axes>"
      ]
     },
     "metadata": {
      "needs_background": "light",
      "tags": []
     },
     "output_type": "display_data"
    }
   ],
   "source": [
    "fuel_avg_price = df[['fueltype','price']].groupby(\"fueltype\", as_index = False).mean().rename(columns={'price':'fuel_avg_price'})\n",
    "plt = fuel_avg_price.plot(x = 'fueltype', kind='bar',legend = False, sort_columns = True)\n",
    "plt.set(xlabel=\"Fuel Type\",ylabel=\"Avg Price($)\")"
   ]
  },
  {
   "cell_type": "code",
   "execution_count": 23,
   "metadata": {
    "colab": {
     "base_uri": "https://localhost:8080/",
     "height": 313
    },
    "colab_type": "code",
    "id": "khtAbBg3X6u0",
    "outputId": "f4ad2bed-c1b1-4882-f97e-6048fa84ded8"
   },
   "outputs": [
    {
     "data": {
      "text/plain": [
       "[Text(0, 0.5, 'Avg Price($)'), Text(0.5, 0, 'Aspiration')]"
      ]
     },
     "execution_count": 23,
     "metadata": {
      "tags": []
     },
     "output_type": "execute_result"
    },
    {
     "data": {
      "image/png": "[encoded data removed]",
      "text/plain": [
       "<Figure size 432x288 with 1 Axes>"
      ]
     },
     "metadata": {
      "needs_background": "light",
      "tags": []
     },
     "output_type": "display_data"
    }
   ],
   "source": [
    "aspir_avg_price = df[['aspiration','price']].groupby(\"aspiration\", as_index = False).mean().rename(columns={'price':'aspir_avg_price'})\n",
    "plt = aspir_avg_price.plot(x = 'aspiration', kind='bar',legend = False, sort_columns = True)\n",
    "plt.set(xlabel=\"Aspiration\",ylabel=\"Avg Price($)\")"
   ]
  },
  {
   "cell_type": "code",
   "execution_count": 24,
   "metadata": {
    "colab": {
     "base_uri": "https://localhost:8080/",
     "height": 308
    },
    "colab_type": "code",
    "id": "UXxCDfENX9dI",
    "outputId": "6477808e-9a7a-4cdf-f803-eb83c75855e6"
   },
   "outputs": [
    {
     "data": {
      "text/plain": [
       "[Text(0, 0.5, 'Avg Price($)'), Text(0.5, 0, 'Door Number')]"
      ]
     },
     "execution_count": 24,
     "metadata": {
      "tags": []
     },
     "output_type": "execute_result"
    },
    {
     "data": {
      "image/png": "[encoded data removed]",
      "text/plain": [
       "<Figure size 432x288 with 1 Axes>"
      ]
     },
     "metadata": {
      "needs_background": "light",
      "tags": []
     },
     "output_type": "display_data"
    }
   ],
   "source": [
    "door_avg_price = df[['doornumber','price']].groupby(\"doornumber\", as_index = False).mean().rename(columns={'price':'door_avg_price'})\n",
    "plt = door_avg_price.plot(x = 'doornumber', kind='bar',legend = False, sort_columns = True)\n",
    "plt.set(xlabel=\"Door Number\",ylabel=\"Avg Price($)\")"
   ]
  },
  {
   "cell_type": "code",
   "execution_count": 25,
   "metadata": {
    "colab": {
     "base_uri": "https://localhost:8080/",
     "height": 342
    },
    "colab_type": "code",
    "id": "21ES7IrRYApF",
    "outputId": "2b1032c4-39b7-4360-874f-dcb3833fb742"
   },
   "outputs": [
    {
     "data": {
      "text/plain": [
       "[Text(0, 0.5, 'Avg Price($)'), Text(0.5, 0, 'Car Body')]"
      ]
     },
     "execution_count": 25,
     "metadata": {
      "tags": []
     },
     "output_type": "execute_result"
    },
    {
     "data": {
      "image/png": "[encoded data removed]",
      "text/plain": [
       "<Figure size 432x288 with 1 Axes>"
      ]
     },
     "metadata": {
      "needs_background": "light",
      "tags": []
     },
     "output_type": "display_data"
    }
   ],
   "source": [
    "body_avg_price = df[['carbody','price']].groupby(\"carbody\", as_index = False).mean().rename(columns={'price':'body_avg_price'})\n",
    "plt = body_avg_price.plot(x = 'carbody', kind='bar',legend = False, sort_columns = True)\n",
    "plt.set(xlabel=\"Car Body\",ylabel=\"Avg Price($)\") "
   ]
  },
  {
   "cell_type": "code",
   "execution_count": 26,
   "metadata": {
    "colab": {},
    "colab_type": "code",
    "id": "DqpMAz9QV4JX"
   },
   "outputs": [],
   "source": [
    "temp = df[['fueltype', 'aspiration', 'carbody', 'drivewheel', 'wheelbase', 'carlength', 'carwidth', 'curbweight', 'enginetype',\n",
    "       'cylindernumber', 'enginesize',  'boreratio', 'horsepower', 'price','brand_category']]"
   ]
  },
  {
   "cell_type": "code",
   "execution_count": 27,
   "metadata": {
    "colab": {
     "base_uri": "https://localhost:8080/",
     "height": 224
    },
    "colab_type": "code",
    "id": "hUhvr4sbYl6O",
    "outputId": "39f83c44-c56c-4ca8-9d14-1de410d92cb3"
   },
   "outputs": [
    {
     "data": {
      "text/html": [
       "<div>\n",
       "<style scoped>\n",
       "    .dataframe tbody tr th:only-of-type {\n",
       "        vertical-align: middle;\n",
       "    }\n",
       "\n",
       "    .dataframe tbody tr th {\n",
       "        vertical-align: top;\n",
       "    }\n",
       "\n",
       "    .dataframe thead th {\n",
       "        text-align: right;\n",
       "    }\n",
       "</style>\n",
       "<table border=\"1\" class=\"dataframe\">\n",
       "  <thead>\n",
       "    <tr style=\"text-align: right;\">\n",
       "      <th></th>\n",
       "      <th>fueltype</th>\n",
       "      <th>aspiration</th>\n",
       "      <th>carbody</th>\n",
       "      <th>drivewheel</th>\n",
       "      <th>wheelbase</th>\n",
       "      <th>carlength</th>\n",
       "      <th>carwidth</th>\n",
       "      <th>curbweight</th>\n",
       "      <th>enginetype</th>\n",
       "      <th>cylindernumber</th>\n",
       "      <th>enginesize</th>\n",
       "      <th>boreratio</th>\n",
       "      <th>horsepower</th>\n",
       "      <th>price</th>\n",
       "      <th>brand_category</th>\n",
       "    </tr>\n",
       "  </thead>\n",
       "  <tbody>\n",
       "    <tr>\n",
       "      <th>0</th>\n",
       "      <td>gas</td>\n",
       "      <td>std</td>\n",
       "      <td>convertible</td>\n",
       "      <td>rwd</td>\n",
       "      <td>88.6</td>\n",
       "      <td>168.8</td>\n",
       "      <td>64.1</td>\n",
       "      <td>2548</td>\n",
       "      <td>dohc</td>\n",
       "      <td>four</td>\n",
       "      <td>130</td>\n",
       "      <td>3.47</td>\n",
       "      <td>111</td>\n",
       "      <td>13495.0</td>\n",
       "      <td>Middle_Range</td>\n",
       "    </tr>\n",
       "    <tr>\n",
       "      <th>1</th>\n",
       "      <td>gas</td>\n",
       "      <td>std</td>\n",
       "      <td>convertible</td>\n",
       "      <td>rwd</td>\n",
       "      <td>88.6</td>\n",
       "      <td>168.8</td>\n",
       "      <td>64.1</td>\n",
       "      <td>2548</td>\n",
       "      <td>dohc</td>\n",
       "      <td>four</td>\n",
       "      <td>130</td>\n",
       "      <td>3.47</td>\n",
       "      <td>111</td>\n",
       "      <td>16500.0</td>\n",
       "      <td>Middle_Range</td>\n",
       "    </tr>\n",
       "    <tr>\n",
       "      <th>2</th>\n",
       "      <td>gas</td>\n",
       "      <td>std</td>\n",
       "      <td>hatchback</td>\n",
       "      <td>rwd</td>\n",
       "      <td>94.5</td>\n",
       "      <td>171.2</td>\n",
       "      <td>65.5</td>\n",
       "      <td>2823</td>\n",
       "      <td>ohcv</td>\n",
       "      <td>six</td>\n",
       "      <td>152</td>\n",
       "      <td>2.68</td>\n",
       "      <td>154</td>\n",
       "      <td>16500.0</td>\n",
       "      <td>Middle_Range</td>\n",
       "    </tr>\n",
       "    <tr>\n",
       "      <th>3</th>\n",
       "      <td>gas</td>\n",
       "      <td>std</td>\n",
       "      <td>sedan</td>\n",
       "      <td>fwd</td>\n",
       "      <td>99.8</td>\n",
       "      <td>176.6</td>\n",
       "      <td>66.2</td>\n",
       "      <td>2337</td>\n",
       "      <td>ohc</td>\n",
       "      <td>four</td>\n",
       "      <td>109</td>\n",
       "      <td>3.19</td>\n",
       "      <td>102</td>\n",
       "      <td>13950.0</td>\n",
       "      <td>Middle_Range</td>\n",
       "    </tr>\n",
       "    <tr>\n",
       "      <th>4</th>\n",
       "      <td>gas</td>\n",
       "      <td>std</td>\n",
       "      <td>sedan</td>\n",
       "      <td>4wd</td>\n",
       "      <td>99.4</td>\n",
       "      <td>176.6</td>\n",
       "      <td>66.4</td>\n",
       "      <td>2824</td>\n",
       "      <td>ohc</td>\n",
       "      <td>five</td>\n",
       "      <td>136</td>\n",
       "      <td>3.19</td>\n",
       "      <td>115</td>\n",
       "      <td>17450.0</td>\n",
       "      <td>Middle_Range</td>\n",
       "    </tr>\n",
       "  </tbody>\n",
       "</table>\n",
       "</div>"
      ],
      "text/plain": [
       "  fueltype aspiration      carbody  ... horsepower    price  brand_category\n",
       "0      gas        std  convertible  ...        111  13495.0    Middle_Range\n",
       "1      gas        std  convertible  ...        111  16500.0    Middle_Range\n",
       "2      gas        std    hatchback  ...        154  16500.0    Middle_Range\n",
       "3      gas        std        sedan  ...        102  13950.0    Middle_Range\n",
       "4      gas        std        sedan  ...        115  17450.0    Middle_Range\n",
       "\n",
       "[5 rows x 15 columns]"
      ]
     },
     "execution_count": 27,
     "metadata": {
      "tags": []
     },
     "output_type": "execute_result"
    }
   ],
   "source": [
    "temp.head()"
   ]
  },
  {
   "cell_type": "markdown",
   "metadata": {
    "colab_type": "text",
    "id": "YMkcuo6cddBM"
   },
   "source": [
    "As we know that the Linear Regression Model does not work on categorical variable. Hence, we have to encode the columns with the help of label encoding(dummification)."
   ]
  },
  {
   "cell_type": "code",
   "execution_count": 28,
   "metadata": {
    "colab": {},
    "colab_type": "code",
    "id": "XFP6pjw8V4Ja"
   },
   "outputs": [],
   "source": [
    "cylin_no = pd.get_dummies(temp['cylindernumber'], drop_first = True)"
   ]
  },
  {
   "cell_type": "code",
   "execution_count": 29,
   "metadata": {
    "colab": {},
    "colab_type": "code",
    "id": "R3-gig8OV4Jc"
   },
   "outputs": [],
   "source": [
    "temp = pd.concat([temp, cylin_no], axis = 1)"
   ]
  },
  {
   "cell_type": "code",
   "execution_count": 30,
   "metadata": {
    "colab": {},
    "colab_type": "code",
    "id": "n4A93vBsV4Jg"
   },
   "outputs": [],
   "source": [
    "brand = pd.get_dummies(temp['brand_category'], drop_first = True)"
   ]
  },
  {
   "cell_type": "code",
   "execution_count": 31,
   "metadata": {
    "colab": {},
    "colab_type": "code",
    "id": "qTiKxgNPV4Ji"
   },
   "outputs": [],
   "source": [
    "temp = pd.concat([temp, brand], axis = 1)"
   ]
  },
  {
   "cell_type": "code",
   "execution_count": 32,
   "metadata": {
    "colab": {},
    "colab_type": "code",
    "id": "gM2AigaaV4Jm"
   },
   "outputs": [],
   "source": [
    "engine = pd.get_dummies(temp['enginetype'], drop_first = True)"
   ]
  },
  {
   "cell_type": "code",
   "execution_count": 33,
   "metadata": {
    "colab": {},
    "colab_type": "code",
    "id": "5IgpbB67V4Jq"
   },
   "outputs": [],
   "source": [
    "temp = pd.concat([temp, engine], axis = 1)"
   ]
  },
  {
   "cell_type": "code",
   "execution_count": 34,
   "metadata": {
    "colab": {},
    "colab_type": "code",
    "id": "UZx1jjTmV4Ju"
   },
   "outputs": [],
   "source": [
    "drivewh = pd.get_dummies(temp['drivewheel'], drop_first = True)"
   ]
  },
  {
   "cell_type": "code",
   "execution_count": 35,
   "metadata": {
    "colab": {},
    "colab_type": "code",
    "id": "bA9WYZ-TV4Jy"
   },
   "outputs": [],
   "source": [
    "temp = pd.concat([temp, drivewh], axis = 1)"
   ]
  },
  {
   "cell_type": "code",
   "execution_count": 36,
   "metadata": {
    "colab": {},
    "colab_type": "code",
    "id": "OzD6SQgpV4J1"
   },
   "outputs": [],
   "source": [
    "body = pd.get_dummies(temp['carbody'], drop_first = True)"
   ]
  },
  {
   "cell_type": "code",
   "execution_count": 37,
   "metadata": {
    "colab": {},
    "colab_type": "code",
    "id": "HzaKxdBaV4J3"
   },
   "outputs": [],
   "source": [
    "temp = pd.concat([temp, body], axis = 1)"
   ]
  },
  {
   "cell_type": "code",
   "execution_count": 38,
   "metadata": {
    "colab": {},
    "colab_type": "code",
    "id": "s4NpqJ9GV4J6"
   },
   "outputs": [],
   "source": [
    "asp = pd.get_dummies(temp['aspiration'], drop_first = True)"
   ]
  },
  {
   "cell_type": "code",
   "execution_count": 39,
   "metadata": {
    "colab": {},
    "colab_type": "code",
    "id": "hPyNXfIxV4J-"
   },
   "outputs": [],
   "source": [
    "temp = pd.concat([temp, asp], axis = 1)"
   ]
  },
  {
   "cell_type": "code",
   "execution_count": 40,
   "metadata": {
    "colab": {},
    "colab_type": "code",
    "id": "i-1dYn7HV4KA"
   },
   "outputs": [],
   "source": [
    "fuel = pd.get_dummies(temp['fueltype'], drop_first = True)"
   ]
  },
  {
   "cell_type": "code",
   "execution_count": 41,
   "metadata": {
    "colab": {},
    "colab_type": "code",
    "id": "D3d4K03pV4KC"
   },
   "outputs": [],
   "source": [
    "temp = pd.concat([temp, fuel], axis = 1)"
   ]
  },
  {
   "cell_type": "code",
   "execution_count": 42,
   "metadata": {
    "colab": {},
    "colab_type": "code",
    "id": "qSfmPHh6V4KE"
   },
   "outputs": [],
   "source": [
    "temp.drop(['fueltype', 'aspiration', 'carbody', 'drivewheel', 'enginetype', 'cylindernumber','brand_category'], axis = 1, inplace = True)"
   ]
  },
  {
   "cell_type": "code",
   "execution_count": 43,
   "metadata": {
    "colab": {
     "base_uri": "https://localhost:8080/",
     "height": 999
    },
    "colab_type": "code",
    "id": "K0U4M-RkV4KH",
    "outputId": "f74d4c9e-ad70-455b-b3d3-0e965975ffb1",
    "scrolled": true
   },
   "outputs": [
    {
     "data": {
      "text/html": [
       "<div>\n",
       "<style scoped>\n",
       "    .dataframe tbody tr th:only-of-type {\n",
       "        vertical-align: middle;\n",
       "    }\n",
       "\n",
       "    .dataframe tbody tr th {\n",
       "        vertical-align: top;\n",
       "    }\n",
       "\n",
       "    .dataframe thead th {\n",
       "        text-align: right;\n",
       "    }\n",
       "</style>\n",
       "<table border=\"1\" class=\"dataframe\">\n",
       "  <thead>\n",
       "    <tr style=\"text-align: right;\">\n",
       "      <th></th>\n",
       "      <th>wheelbase</th>\n",
       "      <th>carlength</th>\n",
       "      <th>carwidth</th>\n",
       "      <th>curbweight</th>\n",
       "      <th>enginesize</th>\n",
       "      <th>boreratio</th>\n",
       "      <th>horsepower</th>\n",
       "      <th>price</th>\n",
       "      <th>five</th>\n",
       "      <th>four</th>\n",
       "      <th>six</th>\n",
       "      <th>three</th>\n",
       "      <th>twelve</th>\n",
       "      <th>two</th>\n",
       "      <th>Luxury</th>\n",
       "      <th>Middle_Range</th>\n",
       "      <th>dohcv</th>\n",
       "      <th>l</th>\n",
       "      <th>ohc</th>\n",
       "      <th>ohcf</th>\n",
       "      <th>ohcv</th>\n",
       "      <th>rotor</th>\n",
       "      <th>fwd</th>\n",
       "      <th>rwd</th>\n",
       "      <th>hardtop</th>\n",
       "      <th>hatchback</th>\n",
       "      <th>sedan</th>\n",
       "      <th>wagon</th>\n",
       "      <th>turbo</th>\n",
       "      <th>gas</th>\n",
       "    </tr>\n",
       "  </thead>\n",
       "  <tbody>\n",
       "    <tr>\n",
       "      <th>wheelbase</th>\n",
       "      <td>1.000000</td>\n",
       "      <td>0.874587</td>\n",
       "      <td>0.795144</td>\n",
       "      <td>0.776386</td>\n",
       "      <td>0.569329</td>\n",
       "      <td>0.488750</td>\n",
       "      <td>0.353294</td>\n",
       "      <td>0.577816</td>\n",
       "      <td>0.261182</td>\n",
       "      <td>-0.309492</td>\n",
       "      <td>0.145842</td>\n",
       "      <td>-0.120709</td>\n",
       "      <td>0.037803</td>\n",
       "      <td>-0.081174</td>\n",
       "      <td>0.402946</td>\n",
       "      <td>0.290210</td>\n",
       "      <td>-0.004156</td>\n",
       "      <td>0.399603</td>\n",
       "      <td>-0.204037</td>\n",
       "      <td>-0.183195</td>\n",
       "      <td>0.166152</td>\n",
       "      <td>-0.081174</td>\n",
       "      <td>-0.460355</td>\n",
       "      <td>0.498830</td>\n",
       "      <td>-0.008608</td>\n",
       "      <td>-0.386094</td>\n",
       "      <td>0.291086</td>\n",
       "      <td>0.210899</td>\n",
       "      <td>0.257611</td>\n",
       "      <td>-0.308346</td>\n",
       "    </tr>\n",
       "    <tr>\n",
       "      <th>carlength</th>\n",
       "      <td>0.874587</td>\n",
       "      <td>1.000000</td>\n",
       "      <td>0.841118</td>\n",
       "      <td>0.877728</td>\n",
       "      <td>0.683360</td>\n",
       "      <td>0.606454</td>\n",
       "      <td>0.552623</td>\n",
       "      <td>0.682920</td>\n",
       "      <td>0.259894</td>\n",
       "      <td>-0.400210</td>\n",
       "      <td>0.262981</td>\n",
       "      <td>-0.187445</td>\n",
       "      <td>0.100413</td>\n",
       "      <td>-0.057877</td>\n",
       "      <td>0.429395</td>\n",
       "      <td>0.410388</td>\n",
       "      <td>0.009391</td>\n",
       "      <td>0.261715</td>\n",
       "      <td>-0.274413</td>\n",
       "      <td>-0.118320</td>\n",
       "      <td>0.244053</td>\n",
       "      <td>-0.057877</td>\n",
       "      <td>-0.508714</td>\n",
       "      <td>0.538370</td>\n",
       "      <td>0.047292</td>\n",
       "      <td>-0.436269</td>\n",
       "      <td>0.269647</td>\n",
       "      <td>0.219683</td>\n",
       "      <td>0.234539</td>\n",
       "      <td>-0.212679</td>\n",
       "    </tr>\n",
       "    <tr>\n",
       "      <th>carwidth</th>\n",
       "      <td>0.795144</td>\n",
       "      <td>0.841118</td>\n",
       "      <td>1.000000</td>\n",
       "      <td>0.867032</td>\n",
       "      <td>0.735433</td>\n",
       "      <td>0.559150</td>\n",
       "      <td>0.640732</td>\n",
       "      <td>0.759325</td>\n",
       "      <td>0.397690</td>\n",
       "      <td>-0.523135</td>\n",
       "      <td>0.209246</td>\n",
       "      <td>-0.183473</td>\n",
       "      <td>0.153516</td>\n",
       "      <td>-0.013699</td>\n",
       "      <td>0.552077</td>\n",
       "      <td>0.312797</td>\n",
       "      <td>0.209136</td>\n",
       "      <td>0.210771</td>\n",
       "      <td>-0.286211</td>\n",
       "      <td>-0.124446</td>\n",
       "      <td>0.348869</td>\n",
       "      <td>-0.013699</td>\n",
       "      <td>-0.472116</td>\n",
       "      <td>0.511149</td>\n",
       "      <td>0.066360</td>\n",
       "      <td>-0.222308</td>\n",
       "      <td>0.154637</td>\n",
       "      <td>0.060639</td>\n",
       "      <td>0.300567</td>\n",
       "      <td>-0.233880</td>\n",
       "    </tr>\n",
       "    <tr>\n",
       "      <th>curbweight</th>\n",
       "      <td>0.776386</td>\n",
       "      <td>0.877728</td>\n",
       "      <td>0.867032</td>\n",
       "      <td>1.000000</td>\n",
       "      <td>0.850594</td>\n",
       "      <td>0.648480</td>\n",
       "      <td>0.750739</td>\n",
       "      <td>0.835305</td>\n",
       "      <td>0.264554</td>\n",
       "      <td>-0.576463</td>\n",
       "      <td>0.405490</td>\n",
       "      <td>-0.143903</td>\n",
       "      <td>0.187964</td>\n",
       "      <td>-0.039196</td>\n",
       "      <td>0.583766</td>\n",
       "      <td>0.378132</td>\n",
       "      <td>0.109243</td>\n",
       "      <td>0.250124</td>\n",
       "      <td>-0.413293</td>\n",
       "      <td>-0.080295</td>\n",
       "      <td>0.400878</td>\n",
       "      <td>-0.039196</td>\n",
       "      <td>-0.666039</td>\n",
       "      <td>0.669987</td>\n",
       "      <td>0.098956</td>\n",
       "      <td>-0.287501</td>\n",
       "      <td>0.099425</td>\n",
       "      <td>0.164075</td>\n",
       "      <td>0.324902</td>\n",
       "      <td>-0.217275</td>\n",
       "    </tr>\n",
       "    <tr>\n",
       "      <th>enginesize</th>\n",
       "      <td>0.569329</td>\n",
       "      <td>0.683360</td>\n",
       "      <td>0.735433</td>\n",
       "      <td>0.850594</td>\n",
       "      <td>1.000000</td>\n",
       "      <td>0.583774</td>\n",
       "      <td>0.809769</td>\n",
       "      <td>0.874145</td>\n",
       "      <td>0.144878</td>\n",
       "      <td>-0.631431</td>\n",
       "      <td>0.511783</td>\n",
       "      <td>-0.111081</td>\n",
       "      <td>0.335555</td>\n",
       "      <td>-0.184762</td>\n",
       "      <td>0.705524</td>\n",
       "      <td>0.111067</td>\n",
       "      <td>0.128248</td>\n",
       "      <td>0.016063</td>\n",
       "      <td>-0.363334</td>\n",
       "      <td>-0.016508</td>\n",
       "      <td>0.562403</td>\n",
       "      <td>-0.184762</td>\n",
       "      <td>-0.518391</td>\n",
       "      <td>0.565509</td>\n",
       "      <td>0.239363</td>\n",
       "      <td>-0.216805</td>\n",
       "      <td>0.088459</td>\n",
       "      <td>-0.027518</td>\n",
       "      <td>0.108217</td>\n",
       "      <td>-0.069594</td>\n",
       "    </tr>\n",
       "    <tr>\n",
       "      <th>boreratio</th>\n",
       "      <td>0.488750</td>\n",
       "      <td>0.606454</td>\n",
       "      <td>0.559150</td>\n",
       "      <td>0.648480</td>\n",
       "      <td>0.583774</td>\n",
       "      <td>1.000000</td>\n",
       "      <td>0.573677</td>\n",
       "      <td>0.553173</td>\n",
       "      <td>-0.007797</td>\n",
       "      <td>-0.164076</td>\n",
       "      <td>0.128365</td>\n",
       "      <td>-0.108774</td>\n",
       "      <td>0.054482</td>\n",
       "      <td>0.000127</td>\n",
       "      <td>0.350281</td>\n",
       "      <td>0.324576</td>\n",
       "      <td>0.158136</td>\n",
       "      <td>0.181729</td>\n",
       "      <td>-0.410383</td>\n",
       "      <td>0.326798</td>\n",
       "      <td>0.119509</td>\n",
       "      <td>0.000127</td>\n",
       "      <td>-0.583087</td>\n",
       "      <td>0.574105</td>\n",
       "      <td>0.208089</td>\n",
       "      <td>-0.227032</td>\n",
       "      <td>0.030517</td>\n",
       "      <td>0.105719</td>\n",
       "      <td>0.212614</td>\n",
       "      <td>-0.054451</td>\n",
       "    </tr>\n",
       "    <tr>\n",
       "      <th>horsepower</th>\n",
       "      <td>0.353294</td>\n",
       "      <td>0.552623</td>\n",
       "      <td>0.640732</td>\n",
       "      <td>0.750739</td>\n",
       "      <td>0.809769</td>\n",
       "      <td>0.573677</td>\n",
       "      <td>1.000000</td>\n",
       "      <td>0.808139</td>\n",
       "      <td>0.110692</td>\n",
       "      <td>-0.639552</td>\n",
       "      <td>0.533544</td>\n",
       "      <td>-0.099600</td>\n",
       "      <td>0.280220</td>\n",
       "      <td>0.019250</td>\n",
       "      <td>0.569262</td>\n",
       "      <td>0.274858</td>\n",
       "      <td>0.326367</td>\n",
       "      <td>-0.054469</td>\n",
       "      <td>-0.427616</td>\n",
       "      <td>0.044752</td>\n",
       "      <td>0.431539</td>\n",
       "      <td>0.019250</td>\n",
       "      <td>-0.544438</td>\n",
       "      <td>0.575564</td>\n",
       "      <td>0.194801</td>\n",
       "      <td>-0.053770</td>\n",
       "      <td>-0.024097</td>\n",
       "      <td>-0.063081</td>\n",
       "      <td>0.241685</td>\n",
       "      <td>0.163926</td>\n",
       "    </tr>\n",
       "    <tr>\n",
       "      <th>price</th>\n",
       "      <td>0.577816</td>\n",
       "      <td>0.682920</td>\n",
       "      <td>0.759325</td>\n",
       "      <td>0.835305</td>\n",
       "      <td>0.874145</td>\n",
       "      <td>0.553173</td>\n",
       "      <td>0.808139</td>\n",
       "      <td>1.000000</td>\n",
       "      <td>0.249606</td>\n",
       "      <td>-0.697762</td>\n",
       "      <td>0.474978</td>\n",
       "      <td>-0.071388</td>\n",
       "      <td>0.199634</td>\n",
       "      <td>-0.004544</td>\n",
       "      <td>0.829241</td>\n",
       "      <td>0.131463</td>\n",
       "      <td>0.159225</td>\n",
       "      <td>0.042267</td>\n",
       "      <td>-0.344270</td>\n",
       "      <td>0.016285</td>\n",
       "      <td>0.385991</td>\n",
       "      <td>-0.004544</td>\n",
       "      <td>-0.601950</td>\n",
       "      <td>0.638957</td>\n",
       "      <td>0.225854</td>\n",
       "      <td>-0.262039</td>\n",
       "      <td>0.125717</td>\n",
       "      <td>-0.042310</td>\n",
       "      <td>0.177926</td>\n",
       "      <td>-0.105680</td>\n",
       "    </tr>\n",
       "    <tr>\n",
       "      <th>five</th>\n",
       "      <td>0.261182</td>\n",
       "      <td>0.259894</td>\n",
       "      <td>0.397690</td>\n",
       "      <td>0.264554</td>\n",
       "      <td>0.144878</td>\n",
       "      <td>-0.007797</td>\n",
       "      <td>0.110692</td>\n",
       "      <td>0.249606</td>\n",
       "      <td>1.000000</td>\n",
       "      <td>-0.442706</td>\n",
       "      <td>-0.086709</td>\n",
       "      <td>-0.016672</td>\n",
       "      <td>-0.016672</td>\n",
       "      <td>-0.033591</td>\n",
       "      <td>0.234495</td>\n",
       "      <td>0.078327</td>\n",
       "      <td>-0.016672</td>\n",
       "      <td>-0.059376</td>\n",
       "      <td>0.147775</td>\n",
       "      <td>-0.066906</td>\n",
       "      <td>-0.061961</td>\n",
       "      <td>-0.033591</td>\n",
       "      <td>-0.063230</td>\n",
       "      <td>-0.003498</td>\n",
       "      <td>0.063799</td>\n",
       "      <td>-0.125816</td>\n",
       "      <td>0.080203</td>\n",
       "      <td>0.043564</td>\n",
       "      <td>0.225968</td>\n",
       "      <td>-0.213527</td>\n",
       "    </tr>\n",
       "    <tr>\n",
       "      <th>four</th>\n",
       "      <td>-0.309492</td>\n",
       "      <td>-0.400210</td>\n",
       "      <td>-0.523135</td>\n",
       "      <td>-0.576463</td>\n",
       "      <td>-0.631431</td>\n",
       "      <td>-0.164076</td>\n",
       "      <td>-0.639552</td>\n",
       "      <td>-0.697762</td>\n",
       "      <td>-0.442706</td>\n",
       "      <td>1.000000</td>\n",
       "      <td>-0.676996</td>\n",
       "      <td>-0.130168</td>\n",
       "      <td>-0.130168</td>\n",
       "      <td>-0.262272</td>\n",
       "      <td>-0.638291</td>\n",
       "      <td>-0.078640</td>\n",
       "      <td>-0.130168</td>\n",
       "      <td>0.084311</td>\n",
       "      <td>0.396945</td>\n",
       "      <td>0.016427</td>\n",
       "      <td>-0.483772</td>\n",
       "      <td>-0.262272</td>\n",
       "      <td>0.425481</td>\n",
       "      <td>-0.434461</td>\n",
       "      <td>-0.133132</td>\n",
       "      <td>0.066757</td>\n",
       "      <td>-0.034178</td>\n",
       "      <td>0.057522</td>\n",
       "      <td>0.009195</td>\n",
       "      <td>0.020184</td>\n",
       "    </tr>\n",
       "    <tr>\n",
       "      <th>six</th>\n",
       "      <td>0.145842</td>\n",
       "      <td>0.262981</td>\n",
       "      <td>0.209246</td>\n",
       "      <td>0.405490</td>\n",
       "      <td>0.511783</td>\n",
       "      <td>0.128365</td>\n",
       "      <td>0.533544</td>\n",
       "      <td>0.474978</td>\n",
       "      <td>-0.086709</td>\n",
       "      <td>-0.676996</td>\n",
       "      <td>1.000000</td>\n",
       "      <td>-0.025495</td>\n",
       "      <td>-0.025495</td>\n",
       "      <td>-0.051369</td>\n",
       "      <td>0.453926</td>\n",
       "      <td>0.054595</td>\n",
       "      <td>-0.025495</td>\n",
       "      <td>-0.090798</td>\n",
       "      <td>-0.349710</td>\n",
       "      <td>0.072472</td>\n",
       "      <td>0.403302</td>\n",
       "      <td>-0.051369</td>\n",
       "      <td>-0.340270</td>\n",
       "      <td>0.380172</td>\n",
       "      <td>0.083317</td>\n",
       "      <td>-0.070235</td>\n",
       "      <td>0.053544</td>\n",
       "      <td>-0.042974</td>\n",
       "      <td>-0.091987</td>\n",
       "      <td>0.068594</td>\n",
       "    </tr>\n",
       "    <tr>\n",
       "      <th>three</th>\n",
       "      <td>-0.120709</td>\n",
       "      <td>-0.187445</td>\n",
       "      <td>-0.183473</td>\n",
       "      <td>-0.143903</td>\n",
       "      <td>-0.111081</td>\n",
       "      <td>-0.108774</td>\n",
       "      <td>-0.099600</td>\n",
       "      <td>-0.071388</td>\n",
       "      <td>-0.016672</td>\n",
       "      <td>-0.130168</td>\n",
       "      <td>-0.025495</td>\n",
       "      <td>1.000000</td>\n",
       "      <td>-0.004902</td>\n",
       "      <td>-0.009877</td>\n",
       "      <td>-0.026684</td>\n",
       "      <td>-0.055439</td>\n",
       "      <td>-0.004902</td>\n",
       "      <td>0.280784</td>\n",
       "      <td>-0.112818</td>\n",
       "      <td>-0.019672</td>\n",
       "      <td>-0.018218</td>\n",
       "      <td>-0.009877</td>\n",
       "      <td>0.058926</td>\n",
       "      <td>-0.053740</td>\n",
       "      <td>-0.014109</td>\n",
       "      <td>0.097231</td>\n",
       "      <td>-0.065706</td>\n",
       "      <td>-0.026093</td>\n",
       "      <td>-0.032857</td>\n",
       "      <td>0.023020</td>\n",
       "    </tr>\n",
       "    <tr>\n",
       "      <th>twelve</th>\n",
       "      <td>0.037803</td>\n",
       "      <td>0.100413</td>\n",
       "      <td>0.153516</td>\n",
       "      <td>0.187964</td>\n",
       "      <td>0.335555</td>\n",
       "      <td>0.054482</td>\n",
       "      <td>0.280220</td>\n",
       "      <td>0.199634</td>\n",
       "      <td>-0.016672</td>\n",
       "      <td>-0.130168</td>\n",
       "      <td>-0.025495</td>\n",
       "      <td>-0.004902</td>\n",
       "      <td>1.000000</td>\n",
       "      <td>-0.009877</td>\n",
       "      <td>0.183707</td>\n",
       "      <td>-0.055439</td>\n",
       "      <td>-0.004902</td>\n",
       "      <td>-0.017458</td>\n",
       "      <td>-0.112818</td>\n",
       "      <td>-0.019672</td>\n",
       "      <td>0.269069</td>\n",
       "      <td>-0.009877</td>\n",
       "      <td>-0.083189</td>\n",
       "      <td>0.091216</td>\n",
       "      <td>-0.014109</td>\n",
       "      <td>-0.050416</td>\n",
       "      <td>0.074604</td>\n",
       "      <td>-0.026093</td>\n",
       "      <td>-0.032857</td>\n",
       "      <td>0.023020</td>\n",
       "    </tr>\n",
       "    <tr>\n",
       "      <th>two</th>\n",
       "      <td>-0.081174</td>\n",
       "      <td>-0.057877</td>\n",
       "      <td>-0.013699</td>\n",
       "      <td>-0.039196</td>\n",
       "      <td>-0.184762</td>\n",
       "      <td>0.000127</td>\n",
       "      <td>0.019250</td>\n",
       "      <td>-0.004544</td>\n",
       "      <td>-0.033591</td>\n",
       "      <td>-0.262272</td>\n",
       "      <td>-0.051369</td>\n",
       "      <td>-0.009877</td>\n",
       "      <td>-0.009877</td>\n",
       "      <td>1.000000</td>\n",
       "      <td>-0.053764</td>\n",
       "      <td>0.178157</td>\n",
       "      <td>-0.009877</td>\n",
       "      <td>-0.035176</td>\n",
       "      <td>-0.227314</td>\n",
       "      <td>-0.039637</td>\n",
       "      <td>-0.036707</td>\n",
       "      <td>1.000000</td>\n",
       "      <td>-0.167615</td>\n",
       "      <td>0.183789</td>\n",
       "      <td>-0.028428</td>\n",
       "      <td>0.195907</td>\n",
       "      <td>-0.132390</td>\n",
       "      <td>-0.052573</td>\n",
       "      <td>-0.066203</td>\n",
       "      <td>0.046383</td>\n",
       "    </tr>\n",
       "    <tr>\n",
       "      <th>Luxury</th>\n",
       "      <td>0.402946</td>\n",
       "      <td>0.429395</td>\n",
       "      <td>0.552077</td>\n",
       "      <td>0.583766</td>\n",
       "      <td>0.705524</td>\n",
       "      <td>0.350281</td>\n",
       "      <td>0.569262</td>\n",
       "      <td>0.829241</td>\n",
       "      <td>0.234495</td>\n",
       "      <td>-0.638291</td>\n",
       "      <td>0.453926</td>\n",
       "      <td>-0.026684</td>\n",
       "      <td>0.183707</td>\n",
       "      <td>-0.053764</td>\n",
       "      <td>1.000000</td>\n",
       "      <td>-0.301779</td>\n",
       "      <td>0.183707</td>\n",
       "      <td>-0.095032</td>\n",
       "      <td>-0.156084</td>\n",
       "      <td>0.061780</td>\n",
       "      <td>0.261715</td>\n",
       "      <td>-0.053764</td>\n",
       "      <td>-0.423083</td>\n",
       "      <td>0.466184</td>\n",
       "      <td>0.225975</td>\n",
       "      <td>-0.212613</td>\n",
       "      <td>0.141721</td>\n",
       "      <td>-0.097239</td>\n",
       "      <td>0.087941</td>\n",
       "      <td>-0.121696</td>\n",
       "    </tr>\n",
       "    <tr>\n",
       "      <th>Middle_Range</th>\n",
       "      <td>0.290210</td>\n",
       "      <td>0.410388</td>\n",
       "      <td>0.312797</td>\n",
       "      <td>0.378132</td>\n",
       "      <td>0.111067</td>\n",
       "      <td>0.324576</td>\n",
       "      <td>0.274858</td>\n",
       "      <td>0.131463</td>\n",
       "      <td>0.078327</td>\n",
       "      <td>-0.078640</td>\n",
       "      <td>0.054595</td>\n",
       "      <td>-0.055439</td>\n",
       "      <td>-0.055439</td>\n",
       "      <td>0.178157</td>\n",
       "      <td>-0.301779</td>\n",
       "      <td>1.000000</td>\n",
       "      <td>-0.055439</td>\n",
       "      <td>0.272212</td>\n",
       "      <td>-0.246846</td>\n",
       "      <td>-0.107017</td>\n",
       "      <td>0.081854</td>\n",
       "      <td>0.178157</td>\n",
       "      <td>-0.289790</td>\n",
       "      <td>0.284551</td>\n",
       "      <td>-0.107808</td>\n",
       "      <td>-0.041758</td>\n",
       "      <td>-0.019989</td>\n",
       "      <td>0.103097</td>\n",
       "      <td>0.227816</td>\n",
       "      <td>-0.043666</td>\n",
       "    </tr>\n",
       "    <tr>\n",
       "      <th>dohcv</th>\n",
       "      <td>-0.004156</td>\n",
       "      <td>0.009391</td>\n",
       "      <td>0.209136</td>\n",
       "      <td>0.109243</td>\n",
       "      <td>0.128248</td>\n",
       "      <td>0.158136</td>\n",
       "      <td>0.326367</td>\n",
       "      <td>0.159225</td>\n",
       "      <td>-0.016672</td>\n",
       "      <td>-0.130168</td>\n",
       "      <td>-0.025495</td>\n",
       "      <td>-0.004902</td>\n",
       "      <td>-0.004902</td>\n",
       "      <td>-0.009877</td>\n",
       "      <td>0.183707</td>\n",
       "      <td>-0.055439</td>\n",
       "      <td>1.000000</td>\n",
       "      <td>-0.017458</td>\n",
       "      <td>-0.112818</td>\n",
       "      <td>-0.019672</td>\n",
       "      <td>-0.018218</td>\n",
       "      <td>-0.009877</td>\n",
       "      <td>-0.083189</td>\n",
       "      <td>0.091216</td>\n",
       "      <td>-0.014109</td>\n",
       "      <td>0.097231</td>\n",
       "      <td>-0.065706</td>\n",
       "      <td>-0.026093</td>\n",
       "      <td>-0.032857</td>\n",
       "      <td>0.023020</td>\n",
       "    </tr>\n",
       "    <tr>\n",
       "      <th>l</th>\n",
       "      <td>0.399603</td>\n",
       "      <td>0.261715</td>\n",
       "      <td>0.210771</td>\n",
       "      <td>0.250124</td>\n",
       "      <td>0.016063</td>\n",
       "      <td>0.181729</td>\n",
       "      <td>-0.054469</td>\n",
       "      <td>0.042267</td>\n",
       "      <td>-0.059376</td>\n",
       "      <td>0.084311</td>\n",
       "      <td>-0.090798</td>\n",
       "      <td>0.280784</td>\n",
       "      <td>-0.017458</td>\n",
       "      <td>-0.035176</td>\n",
       "      <td>-0.095032</td>\n",
       "      <td>0.272212</td>\n",
       "      <td>-0.017458</td>\n",
       "      <td>1.000000</td>\n",
       "      <td>-0.401796</td>\n",
       "      <td>-0.070062</td>\n",
       "      <td>-0.064883</td>\n",
       "      <td>-0.035176</td>\n",
       "      <td>-0.254096</td>\n",
       "      <td>0.281842</td>\n",
       "      <td>-0.050249</td>\n",
       "      <td>-0.135734</td>\n",
       "      <td>0.057487</td>\n",
       "      <td>0.161075</td>\n",
       "      <td>0.207156</td>\n",
       "      <td>-0.268163</td>\n",
       "    </tr>\n",
       "    <tr>\n",
       "      <th>ohc</th>\n",
       "      <td>-0.204037</td>\n",
       "      <td>-0.274413</td>\n",
       "      <td>-0.286211</td>\n",
       "      <td>-0.413293</td>\n",
       "      <td>-0.363334</td>\n",
       "      <td>-0.410383</td>\n",
       "      <td>-0.427616</td>\n",
       "      <td>-0.344270</td>\n",
       "      <td>0.147775</td>\n",
       "      <td>0.396945</td>\n",
       "      <td>-0.349710</td>\n",
       "      <td>-0.112818</td>\n",
       "      <td>-0.112818</td>\n",
       "      <td>-0.227314</td>\n",
       "      <td>-0.156084</td>\n",
       "      <td>-0.246846</td>\n",
       "      <td>-0.112818</td>\n",
       "      <td>-0.401796</td>\n",
       "      <td>1.000000</td>\n",
       "      <td>-0.452754</td>\n",
       "      <td>-0.419290</td>\n",
       "      <td>-0.227314</td>\n",
       "      <td>0.450078</td>\n",
       "      <td>-0.402779</td>\n",
       "      <td>-0.043606</td>\n",
       "      <td>0.056560</td>\n",
       "      <td>0.080571</td>\n",
       "      <td>-0.101439</td>\n",
       "      <td>-0.020162</td>\n",
       "      <td>-0.020584</td>\n",
       "    </tr>\n",
       "    <tr>\n",
       "      <th>ohcf</th>\n",
       "      <td>-0.183195</td>\n",
       "      <td>-0.118320</td>\n",
       "      <td>-0.124446</td>\n",
       "      <td>-0.080295</td>\n",
       "      <td>-0.016508</td>\n",
       "      <td>0.326798</td>\n",
       "      <td>0.044752</td>\n",
       "      <td>0.016285</td>\n",
       "      <td>-0.066906</td>\n",
       "      <td>0.016427</td>\n",
       "      <td>0.072472</td>\n",
       "      <td>-0.019672</td>\n",
       "      <td>-0.019672</td>\n",
       "      <td>-0.039637</td>\n",
       "      <td>0.061780</td>\n",
       "      <td>-0.107017</td>\n",
       "      <td>-0.019672</td>\n",
       "      <td>-0.070062</td>\n",
       "      <td>-0.452754</td>\n",
       "      <td>1.000000</td>\n",
       "      <td>-0.073112</td>\n",
       "      <td>-0.039637</td>\n",
       "      <td>-0.067697</td>\n",
       "      <td>-0.099320</td>\n",
       "      <td>0.136835</td>\n",
       "      <td>-0.083821</td>\n",
       "      <td>-0.075994</td>\n",
       "      <td>0.124260</td>\n",
       "      <td>-0.034450</td>\n",
       "      <td>0.092384</td>\n",
       "    </tr>\n",
       "    <tr>\n",
       "      <th>ohcv</th>\n",
       "      <td>0.166152</td>\n",
       "      <td>0.244053</td>\n",
       "      <td>0.348869</td>\n",
       "      <td>0.400878</td>\n",
       "      <td>0.562403</td>\n",
       "      <td>0.119509</td>\n",
       "      <td>0.431539</td>\n",
       "      <td>0.385991</td>\n",
       "      <td>-0.061961</td>\n",
       "      <td>-0.483772</td>\n",
       "      <td>0.403302</td>\n",
       "      <td>-0.018218</td>\n",
       "      <td>0.269069</td>\n",
       "      <td>-0.036707</td>\n",
       "      <td>0.261715</td>\n",
       "      <td>0.081854</td>\n",
       "      <td>-0.018218</td>\n",
       "      <td>-0.064883</td>\n",
       "      <td>-0.419290</td>\n",
       "      <td>-0.073112</td>\n",
       "      <td>1.000000</td>\n",
       "      <td>-0.036707</td>\n",
       "      <td>-0.187288</td>\n",
       "      <td>0.214684</td>\n",
       "      <td>0.050924</td>\n",
       "      <td>-0.018531</td>\n",
       "      <td>-0.003522</td>\n",
       "      <td>-0.035806</td>\n",
       "      <td>-0.070070</td>\n",
       "      <td>0.085556</td>\n",
       "    </tr>\n",
       "    <tr>\n",
       "      <th>rotor</th>\n",
       "      <td>-0.081174</td>\n",
       "      <td>-0.057877</td>\n",
       "      <td>-0.013699</td>\n",
       "      <td>-0.039196</td>\n",
       "      <td>-0.184762</td>\n",
       "      <td>0.000127</td>\n",
       "      <td>0.019250</td>\n",
       "      <td>-0.004544</td>\n",
       "      <td>-0.033591</td>\n",
       "      <td>-0.262272</td>\n",
       "      <td>-0.051369</td>\n",
       "      <td>-0.009877</td>\n",
       "      <td>-0.009877</td>\n",
       "      <td>1.000000</td>\n",
       "      <td>-0.053764</td>\n",
       "      <td>0.178157</td>\n",
       "      <td>-0.009877</td>\n",
       "      <td>-0.035176</td>\n",
       "      <td>-0.227314</td>\n",
       "      <td>-0.039637</td>\n",
       "      <td>-0.036707</td>\n",
       "      <td>1.000000</td>\n",
       "      <td>-0.167615</td>\n",
       "      <td>0.183789</td>\n",
       "      <td>-0.028428</td>\n",
       "      <td>0.195907</td>\n",
       "      <td>-0.132390</td>\n",
       "      <td>-0.052573</td>\n",
       "      <td>-0.066203</td>\n",
       "      <td>0.046383</td>\n",
       "    </tr>\n",
       "    <tr>\n",
       "      <th>fwd</th>\n",
       "      <td>-0.460355</td>\n",
       "      <td>-0.508714</td>\n",
       "      <td>-0.472116</td>\n",
       "      <td>-0.666039</td>\n",
       "      <td>-0.518391</td>\n",
       "      <td>-0.583087</td>\n",
       "      <td>-0.544438</td>\n",
       "      <td>-0.601950</td>\n",
       "      <td>-0.063230</td>\n",
       "      <td>0.425481</td>\n",
       "      <td>-0.340270</td>\n",
       "      <td>0.058926</td>\n",
       "      <td>-0.083189</td>\n",
       "      <td>-0.167615</td>\n",
       "      <td>-0.423083</td>\n",
       "      <td>-0.289790</td>\n",
       "      <td>-0.083189</td>\n",
       "      <td>-0.254096</td>\n",
       "      <td>0.450078</td>\n",
       "      <td>-0.067697</td>\n",
       "      <td>-0.187288</td>\n",
       "      <td>-0.167615</td>\n",
       "      <td>1.000000</td>\n",
       "      <td>-0.911996</td>\n",
       "      <td>-0.188308</td>\n",
       "      <td>0.167552</td>\n",
       "      <td>0.015971</td>\n",
       "      <td>-0.079705</td>\n",
       "      <td>-0.145681</td>\n",
       "      <td>0.090342</td>\n",
       "    </tr>\n",
       "    <tr>\n",
       "      <th>rwd</th>\n",
       "      <td>0.498830</td>\n",
       "      <td>0.538370</td>\n",
       "      <td>0.511149</td>\n",
       "      <td>0.669987</td>\n",
       "      <td>0.565509</td>\n",
       "      <td>0.574105</td>\n",
       "      <td>0.575564</td>\n",
       "      <td>0.638957</td>\n",
       "      <td>-0.003498</td>\n",
       "      <td>-0.434461</td>\n",
       "      <td>0.380172</td>\n",
       "      <td>-0.053740</td>\n",
       "      <td>0.091216</td>\n",
       "      <td>0.183789</td>\n",
       "      <td>0.466184</td>\n",
       "      <td>0.284551</td>\n",
       "      <td>0.091216</td>\n",
       "      <td>0.281842</td>\n",
       "      <td>-0.402779</td>\n",
       "      <td>-0.099320</td>\n",
       "      <td>0.214684</td>\n",
       "      <td>0.183789</td>\n",
       "      <td>-0.911996</td>\n",
       "      <td>1.000000</td>\n",
       "      <td>0.210390</td>\n",
       "      <td>-0.148046</td>\n",
       "      <td>0.008293</td>\n",
       "      <td>-0.008280</td>\n",
       "      <td>0.112470</td>\n",
       "      <td>-0.122035</td>\n",
       "    </tr>\n",
       "    <tr>\n",
       "      <th>hardtop</th>\n",
       "      <td>-0.008608</td>\n",
       "      <td>0.047292</td>\n",
       "      <td>0.066360</td>\n",
       "      <td>0.098956</td>\n",
       "      <td>0.239363</td>\n",
       "      <td>0.208089</td>\n",
       "      <td>0.194801</td>\n",
       "      <td>0.225854</td>\n",
       "      <td>0.063799</td>\n",
       "      <td>-0.133132</td>\n",
       "      <td>0.083317</td>\n",
       "      <td>-0.014109</td>\n",
       "      <td>-0.014109</td>\n",
       "      <td>-0.028428</td>\n",
       "      <td>0.225975</td>\n",
       "      <td>-0.107808</td>\n",
       "      <td>-0.014109</td>\n",
       "      <td>-0.050249</td>\n",
       "      <td>-0.043606</td>\n",
       "      <td>0.136835</td>\n",
       "      <td>0.050924</td>\n",
       "      <td>-0.028428</td>\n",
       "      <td>-0.188308</td>\n",
       "      <td>0.210390</td>\n",
       "      <td>1.000000</td>\n",
       "      <td>-0.145109</td>\n",
       "      <td>-0.189119</td>\n",
       "      <td>-0.075101</td>\n",
       "      <td>-0.029074</td>\n",
       "      <td>-0.018635</td>\n",
       "    </tr>\n",
       "    <tr>\n",
       "      <th>hatchback</th>\n",
       "      <td>-0.386094</td>\n",
       "      <td>-0.436269</td>\n",
       "      <td>-0.222308</td>\n",
       "      <td>-0.287501</td>\n",
       "      <td>-0.216805</td>\n",
       "      <td>-0.227032</td>\n",
       "      <td>-0.053770</td>\n",
       "      <td>-0.262039</td>\n",
       "      <td>-0.125816</td>\n",
       "      <td>0.066757</td>\n",
       "      <td>-0.070235</td>\n",
       "      <td>0.097231</td>\n",
       "      <td>-0.050416</td>\n",
       "      <td>0.195907</td>\n",
       "      <td>-0.212613</td>\n",
       "      <td>-0.041758</td>\n",
       "      <td>0.097231</td>\n",
       "      <td>-0.135734</td>\n",
       "      <td>0.056560</td>\n",
       "      <td>-0.083821</td>\n",
       "      <td>-0.018531</td>\n",
       "      <td>0.195907</td>\n",
       "      <td>0.167552</td>\n",
       "      <td>-0.148046</td>\n",
       "      <td>-0.145109</td>\n",
       "      <td>1.000000</td>\n",
       "      <td>-0.675779</td>\n",
       "      <td>-0.268359</td>\n",
       "      <td>0.009786</td>\n",
       "      <td>0.202093</td>\n",
       "    </tr>\n",
       "    <tr>\n",
       "      <th>sedan</th>\n",
       "      <td>0.291086</td>\n",
       "      <td>0.269647</td>\n",
       "      <td>0.154637</td>\n",
       "      <td>0.099425</td>\n",
       "      <td>0.088459</td>\n",
       "      <td>0.030517</td>\n",
       "      <td>-0.024097</td>\n",
       "      <td>0.125717</td>\n",
       "      <td>0.080203</td>\n",
       "      <td>-0.034178</td>\n",
       "      <td>0.053544</td>\n",
       "      <td>-0.065706</td>\n",
       "      <td>0.074604</td>\n",
       "      <td>-0.132390</td>\n",
       "      <td>0.141721</td>\n",
       "      <td>-0.019989</td>\n",
       "      <td>-0.065706</td>\n",
       "      <td>0.057487</td>\n",
       "      <td>0.080571</td>\n",
       "      <td>-0.075994</td>\n",
       "      <td>-0.003522</td>\n",
       "      <td>-0.132390</td>\n",
       "      <td>0.015971</td>\n",
       "      <td>0.008293</td>\n",
       "      <td>-0.189119</td>\n",
       "      <td>-0.675779</td>\n",
       "      <td>1.000000</td>\n",
       "      <td>-0.349749</td>\n",
       "      <td>0.017111</td>\n",
       "      <td>-0.185623</td>\n",
       "    </tr>\n",
       "    <tr>\n",
       "      <th>wagon</th>\n",
       "      <td>0.210899</td>\n",
       "      <td>0.219683</td>\n",
       "      <td>0.060639</td>\n",
       "      <td>0.164075</td>\n",
       "      <td>-0.027518</td>\n",
       "      <td>0.105719</td>\n",
       "      <td>-0.063081</td>\n",
       "      <td>-0.042310</td>\n",
       "      <td>0.043564</td>\n",
       "      <td>0.057522</td>\n",
       "      <td>-0.042974</td>\n",
       "      <td>-0.026093</td>\n",
       "      <td>-0.026093</td>\n",
       "      <td>-0.052573</td>\n",
       "      <td>-0.097239</td>\n",
       "      <td>0.103097</td>\n",
       "      <td>-0.026093</td>\n",
       "      <td>0.161075</td>\n",
       "      <td>-0.101439</td>\n",
       "      <td>0.124260</td>\n",
       "      <td>-0.035806</td>\n",
       "      <td>-0.052573</td>\n",
       "      <td>-0.079705</td>\n",
       "      <td>-0.008280</td>\n",
       "      <td>-0.075101</td>\n",
       "      <td>-0.268359</td>\n",
       "      <td>-0.349749</td>\n",
       "      <td>1.000000</td>\n",
       "      <td>0.018908</td>\n",
       "      <td>-0.028183</td>\n",
       "    </tr>\n",
       "    <tr>\n",
       "      <th>turbo</th>\n",
       "      <td>0.257611</td>\n",
       "      <td>0.234539</td>\n",
       "      <td>0.300567</td>\n",
       "      <td>0.324902</td>\n",
       "      <td>0.108217</td>\n",
       "      <td>0.212614</td>\n",
       "      <td>0.241685</td>\n",
       "      <td>0.177926</td>\n",
       "      <td>0.225968</td>\n",
       "      <td>0.009195</td>\n",
       "      <td>-0.091987</td>\n",
       "      <td>-0.032857</td>\n",
       "      <td>-0.032857</td>\n",
       "      <td>-0.066203</td>\n",
       "      <td>0.087941</td>\n",
       "      <td>0.227816</td>\n",
       "      <td>-0.032857</td>\n",
       "      <td>0.207156</td>\n",
       "      <td>-0.020162</td>\n",
       "      <td>-0.034450</td>\n",
       "      <td>-0.070070</td>\n",
       "      <td>-0.066203</td>\n",
       "      <td>-0.145681</td>\n",
       "      <td>0.112470</td>\n",
       "      <td>-0.029074</td>\n",
       "      <td>0.009786</td>\n",
       "      <td>0.017111</td>\n",
       "      <td>0.018908</td>\n",
       "      <td>1.000000</td>\n",
       "      <td>-0.401397</td>\n",
       "    </tr>\n",
       "    <tr>\n",
       "      <th>gas</th>\n",
       "      <td>-0.308346</td>\n",
       "      <td>-0.212679</td>\n",
       "      <td>-0.233880</td>\n",
       "      <td>-0.217275</td>\n",
       "      <td>-0.069594</td>\n",
       "      <td>-0.054451</td>\n",
       "      <td>0.163926</td>\n",
       "      <td>-0.105680</td>\n",
       "      <td>-0.213527</td>\n",
       "      <td>0.020184</td>\n",
       "      <td>0.068594</td>\n",
       "      <td>0.023020</td>\n",
       "      <td>0.023020</td>\n",
       "      <td>0.046383</td>\n",
       "      <td>-0.121696</td>\n",
       "      <td>-0.043666</td>\n",
       "      <td>0.023020</td>\n",
       "      <td>-0.268163</td>\n",
       "      <td>-0.020584</td>\n",
       "      <td>0.092384</td>\n",
       "      <td>0.085556</td>\n",
       "      <td>0.046383</td>\n",
       "      <td>0.090342</td>\n",
       "      <td>-0.122035</td>\n",
       "      <td>-0.018635</td>\n",
       "      <td>0.202093</td>\n",
       "      <td>-0.185623</td>\n",
       "      <td>-0.028183</td>\n",
       "      <td>-0.401397</td>\n",
       "      <td>1.000000</td>\n",
       "    </tr>\n",
       "  </tbody>\n",
       "</table>\n",
       "</div>"
      ],
      "text/plain": [
       "              wheelbase  carlength  carwidth  ...     wagon     turbo       gas\n",
       "wheelbase      1.000000   0.874587  0.795144  ...  0.210899  0.257611 -0.308346\n",
       "carlength      0.874587   1.000000  0.841118  ...  0.219683  0.234539 -0.212679\n",
       "carwidth       0.795144   0.841118  1.000000  ...  0.060639  0.300567 -0.233880\n",
       "curbweight     0.776386   0.877728  0.867032  ...  0.164075  0.324902 -0.217275\n",
       "enginesize     0.569329   0.683360  0.735433  ... -0.027518  0.108217 -0.069594\n",
       "boreratio      0.488750   0.606454  0.559150  ...  0.105719  0.212614 -0.054451\n",
       "horsepower     0.353294   0.552623  0.640732  ... -0.063081  0.241685  0.163926\n",
       "price          0.577816   0.682920  0.759325  ... -0.042310  0.177926 -0.105680\n",
       "five           0.261182   0.259894  0.397690  ...  0.043564  0.225968 -0.213527\n",
       "four          -0.309492  -0.400210 -0.523135  ...  0.057522  0.009195  0.020184\n",
       "six            0.145842   0.262981  0.209246  ... -0.042974 -0.091987  0.068594\n",
       "three         -0.120709  -0.187445 -0.183473  ... -0.026093 -0.032857  0.023020\n",
       "twelve         0.037803   0.100413  0.153516  ... -0.026093 -0.032857  0.023020\n",
       "two           -0.081174  -0.057877 -0.013699  ... -0.052573 -0.066203  0.046383\n",
       "Luxury         0.402946   0.429395  0.552077  ... -0.097239  0.087941 -0.121696\n",
       "Middle_Range   0.290210   0.410388  0.312797  ...  0.103097  0.227816 -0.043666\n",
       "dohcv         -0.004156   0.009391  0.209136  ... -0.026093 -0.032857  0.023020\n",
       "l              0.399603   0.261715  0.210771  ...  0.161075  0.207156 -0.268163\n",
       "ohc           -0.204037  -0.274413 -0.286211  ... -0.101439 -0.020162 -0.020584\n",
       "ohcf          -0.183195  -0.118320 -0.124446  ...  0.124260 -0.034450  0.092384\n",
       "ohcv           0.166152   0.244053  0.348869  ... -0.035806 -0.070070  0.085556\n",
       "rotor         -0.081174  -0.057877 -0.013699  ... -0.052573 -0.066203  0.046383\n",
       "fwd           -0.460355  -0.508714 -0.472116  ... -0.079705 -0.145681  0.090342\n",
       "rwd            0.498830   0.538370  0.511149  ... -0.008280  0.112470 -0.122035\n",
       "hardtop       -0.008608   0.047292  0.066360  ... -0.075101 -0.029074 -0.018635\n",
       "hatchback     -0.386094  -0.436269 -0.222308  ... -0.268359  0.009786  0.202093\n",
       "sedan          0.291086   0.269647  0.154637  ... -0.349749  0.017111 -0.185623\n",
       "wagon          0.210899   0.219683  0.060639  ...  1.000000  0.018908 -0.028183\n",
       "turbo          0.257611   0.234539  0.300567  ...  0.018908  1.000000 -0.401397\n",
       "gas           -0.308346  -0.212679 -0.233880  ... -0.028183 -0.401397  1.000000\n",
       "\n",
       "[30 rows x 30 columns]"
      ]
     },
     "execution_count": 43,
     "metadata": {
      "tags": []
     },
     "output_type": "execute_result"
    }
   ],
   "source": [
    "temp.corr(method='pearson')"
   ]
  },
  {
   "cell_type": "code",
   "execution_count": 44,
   "metadata": {
    "colab": {
     "base_uri": "https://localhost:8080/",
     "height": 335
    },
    "colab_type": "code",
    "id": "toCGawZhV4KK",
    "outputId": "41bd9ada-1632-4423-8db6-06ade72f8b19"
   },
   "outputs": [
    {
     "data": {
      "text/plain": [
       "<matplotlib.axes._subplots.AxesSubplot at 0x7f72475f8b00>"
      ]
     },
     "execution_count": 44,
     "metadata": {
      "tags": []
     },
     "output_type": "execute_result"
    },
    {
     "data": {
      "image/png": "[encoded data removed]",
      "text/plain": [
       "<Figure size 432x288 with 2 Axes>"
      ]
     },
     "metadata": {
      "needs_background": "light",
      "tags": []
     },
     "output_type": "display_data"
    }
   ],
   "source": [
    "cols=temp.columns\n",
    "correlations=temp[cols].corr()\n",
    "sns.heatmap(correlations)"
   ]
  },
  {
   "cell_type": "markdown",
   "metadata": {
    "colab_type": "text",
    "id": "oji_jXX6d5P6"
   },
   "source": [
    "##Train-Test split"
   ]
  },
  {
   "cell_type": "code",
   "execution_count": 45,
   "metadata": {
    "colab": {},
    "colab_type": "code",
    "id": "csI5et5YV4KN"
   },
   "outputs": [],
   "source": [
    "from sklearn.model_selection import train_test_split\n"
   ]
  },
  {
   "cell_type": "code",
   "execution_count": 46,
   "metadata": {
    "colab": {},
    "colab_type": "code",
    "id": "NLWfW6L3V4KP"
   },
   "outputs": [],
   "source": [
    "X_new = temp.drop(['price'], axis = 1)  \n",
    "y_new = temp.price\n",
    "x_train , x_test , y_train , y_test = train_test_split(X_new, y_new, test_size = 0.2, random_state = 100)"
   ]
  },
  {
   "cell_type": "markdown",
   "metadata": {
    "colab_type": "text",
    "id": "sAcYbYNOeGuA"
   },
   "source": [
    "##**Model Building**"
   ]
  },
  {
   "cell_type": "markdown",
   "metadata": {
    "colab_type": "text",
    "id": "VWhzjaTkhqSR"
   },
   "source": [
    "#Linear Regression"
   ]
  },
  {
   "cell_type": "code",
   "execution_count": 47,
   "metadata": {
    "colab": {},
    "colab_type": "code",
    "id": "rPigPY7_V4KU"
   },
   "outputs": [],
   "source": [
    "# Importing the libraries\n",
    "def LinearRegression():\n",
    "    from sklearn.linear_model import LinearRegression\n",
    "    from sklearn.metrics import mean_squared_error, r2_score\n",
    "    from sklearn.metrics import mean_squared_error as mse\n",
    "    import matplotlib.pyplot as plt\n",
    "    \n",
    "    #Model fitting on training set\n",
    "    lr = LinearRegression()\n",
    "    lr.fit(x_train,y_train)\n",
    "    \n",
    "    \n",
    "    #prediction for train test and test test\n",
    "    y_pred_train = lr.predict(x_train)\n",
    "    y_pred_test = lr.predict(x_test)\n",
    "    \n",
    "    #Training and Testing MSE and RMSE\n",
    "    train_mse = np.mean((y_train - lr.predict(x_train)) ** 2)\n",
    "    test_mse = np.mean((y_test - lr.predict(x_test))** 2)\n",
    "    print('   Linear   Regression    ')\n",
    "    print(\"Train MSE is\",train_mse)\n",
    "    print(\"Test MSE is\",test_mse)\n",
    "    print(\"Train RMSE is:\",np.sqrt(train_mse))\n",
    "    print(\"Test RMSE is\",np.sqrt(test_mse))\n",
    "        \n",
    "    #r2 Score value\n",
    "    r2 = r2_score(y_test,y_pred_test)\n",
    "    print(\"r2 score is\",r2)\n",
    "    print('   Linear   Regression    ')\n",
    "    print()\n",
    "    \n",
    "    #Plotting Residual Plot\n",
    "    residual=y_train-y_pred_train\n",
    "    residual=residual.values.reshape(len(residual),1)\n",
    "    plt.scatter(y_train,residual,c = \"red\")\n",
    "    plt.xlabel(\"residual\")\n",
    "    plt.ylabel(\"y_test\")\n",
    "    plt.axhline(y = 0)\n",
    "    \n",
    "   # Checming Normality Condition\n",
    "    import scipy as sp\n",
    "    fig, ax = plt.subplots(figsize=(6,3))\n",
    "    _, (__, ___, r) = sp.stats.probplot(residual.reshape((len(residual),)), plot=ax, fit=True)"
   ]
  },
  {
   "cell_type": "code",
   "execution_count": 48,
   "metadata": {
    "colab": {
     "base_uri": "https://localhost:8080/",
     "height": 656
    },
    "colab_type": "code",
    "id": "d_m9oMhnV4KY",
    "outputId": "c1411226-14d9-47c2-aae9-d1be6bca6421"
   },
   "outputs": [
    {
     "name": "stdout",
     "output_type": "stream",
     "text": [
      "   Linear   Regression    \n",
      "Train MSE is 2861673.0187367904\n",
      "Test MSE is 5190708.620984051\n",
      "Train RMSE is: 1691.648018571473\n",
      "Test RMSE is 2278.312669715035\n",
      "r2 score is 0.932622133496252\n",
      "   Linear   Regression    \n",
      "\n",
      "None\n"
     ]
    },
    {
     "data": {
      "image/png": "[encoded data removed]",
      "text/plain": [
       "<Figure size 432x288 with 1 Axes>"
      ]
     },
     "metadata": {
      "needs_background": "light",
      "tags": []
     },
     "output_type": "display_data"
    },
    {
     "data": {
      "image/png": "[encoded data removed]",
      "text/plain": [
       "<Figure size 432x216 with 1 Axes>"
      ]
     },
     "metadata": {
      "needs_background": "light",
      "tags": []
     },
     "output_type": "display_data"
    }
   ],
   "source": [
    "print(LinearRegression())"
   ]
  },
  {
   "cell_type": "code",
   "execution_count": 49,
   "metadata": {
    "colab": {
     "base_uri": "https://localhost:8080/",
     "height": 119
    },
    "colab_type": "code",
    "id": "f603zaKcV4Kd",
    "outputId": "92390b53-553a-434b-ab03-4cd9f94b1bec"
   },
   "outputs": [
    {
     "data": {
      "text/plain": [
       "Index(['wheelbase', 'carlength', 'carwidth', 'curbweight', 'enginesize',\n",
       "       'boreratio', 'horsepower', 'price', 'five', 'four', 'six', 'three',\n",
       "       'twelve', 'two', 'Luxury', 'Middle_Range', 'dohcv', 'l', 'ohc', 'ohcf',\n",
       "       'ohcv', 'rotor', 'fwd', 'rwd', 'hardtop', 'hatchback', 'sedan', 'wagon',\n",
       "       'turbo', 'gas'],\n",
       "      dtype='object')"
      ]
     },
     "execution_count": 49,
     "metadata": {
      "tags": []
     },
     "output_type": "execute_result"
    }
   ],
   "source": [
    "temp.columns"
   ]
  },
  {
   "cell_type": "markdown",
   "metadata": {
    "colab_type": "text",
    "id": "6-o_4mF7eXxk"
   },
   "source": [
    "##Linear Regression model building with the help of OLS."
   ]
  },
  {
   "cell_type": "code",
   "execution_count": 50,
   "metadata": {
    "colab": {},
    "colab_type": "code",
    "id": "cYtjYZkRV4Kj"
   },
   "outputs": [],
   "source": [
    "def olslinearmodel():\n",
    "    import statsmodels.api as sm    \n",
    "    X = temp[['wheelbase', 'carlength', 'carwidth', 'curbweight', 'enginesize',\n",
    "       'boreratio', 'horsepower', 'five', 'four', 'six', 'three',\n",
    "       'twelve', 'two', 'Luxury', 'Middle_Range', 'dohcv', 'l', 'ohc', 'ohcf',\n",
    "       'ohcv', 'rotor', 'fwd', 'rwd', 'hardtop', 'hatchback', 'sedan', 'wagon',\n",
    "       'turbo', 'gas']]\n",
    "    X = sm.add_constant(X)\n",
    "    regr2 = sm.OLS(temp['price'],X)\n",
    "    model = regr2.fit()\n",
    "    \n",
    "    print(model.summary())"
   ]
  },
  {
   "cell_type": "code",
   "execution_count": 51,
   "metadata": {
    "colab": {
     "base_uri": "https://localhost:8080/",
     "height": 952
    },
    "colab_type": "code",
    "id": "bVJqZrDGV4Km",
    "outputId": "623bb394-1e3f-470b-dd8f-4b8b884cbe36"
   },
   "outputs": [
    {
     "name": "stdout",
     "output_type": "stream",
     "text": [
      "                            OLS Regression Results                            \n",
      "==============================================================================\n",
      "Dep. Variable:                  price   R-squared:                       0.952\n",
      "Model:                            OLS   Adj. R-squared:                  0.944\n",
      "Method:                 Least Squares   F-statistic:                     124.3\n",
      "Date:                Sat, 27 Jun 2020   Prob (F-statistic):          5.05e-101\n",
      "Time:                        15:18:04   Log-Likelihood:                -1821.5\n",
      "No. Observations:                 205   AIC:                             3701.\n",
      "Df Residuals:                     176   BIC:                             3797.\n",
      "Df Model:                          28                                         \n",
      "Covariance Type:            nonrobust                                         \n",
      "================================================================================\n",
      "                   coef    std err          t      P>|t|      [0.025      0.975]\n",
      "--------------------------------------------------------------------------------\n",
      "const        -1266.9189   9938.498     -0.127      0.899   -2.09e+04    1.83e+04\n",
      "wheelbase       60.9073     65.315      0.933      0.352     -67.994     189.809\n",
      "carlength        1.8396     38.398      0.048      0.962     -73.941      77.620\n",
      "carwidth       176.3243    192.592      0.916      0.361    -203.763     556.411\n",
      "curbweight       0.3088      1.380      0.224      0.823      -2.415       3.033\n",
      "enginesize      27.8087     17.210      1.616      0.108      -6.155      61.772\n",
      "boreratio    -3020.2548   1307.418     -2.310      0.022   -5600.489    -440.020\n",
      "horsepower     108.3615     13.174      8.225      0.000      82.361     134.362\n",
      "five         -5928.9126   2281.267     -2.599      0.010   -1.04e+04   -1426.753\n",
      "four         -5741.6988   2595.859     -2.212      0.028   -1.09e+04    -618.682\n",
      "six          -7899.7211   1754.342     -4.503      0.000   -1.14e+04   -4437.466\n",
      "three        -3673.5564   3606.183     -1.019      0.310   -1.08e+04    3443.371\n",
      "twelve       -1.376e+04   2545.843     -5.405      0.000   -1.88e+04   -8734.993\n",
      "two          -1839.1485   1596.601     -1.152      0.251   -4990.095    1311.798\n",
      "Luxury         1.13e+04    994.528     11.359      0.000    9333.872    1.33e+04\n",
      "Middle_Range  1992.0300    487.633      4.085      0.000    1029.670    2954.390\n",
      "dohcv        -1.739e+04   3423.993     -5.079      0.000   -2.41e+04   -1.06e+04\n",
      "l             2147.0515   1005.595      2.135      0.034     162.476    4131.627\n",
      "ohc           1233.3419    713.848      1.728      0.086    -175.462    2642.146\n",
      "ohcf          1963.7347   1082.688      1.814      0.071    -172.988    4100.457\n",
      "ohcv         -1680.8054   1059.337     -1.587      0.114   -3771.443     409.832\n",
      "rotor        -1839.1485   1596.601     -1.152      0.251   -4990.095    1311.798\n",
      "fwd          -1154.9416    851.072     -1.357      0.177   -2834.561     524.678\n",
      "rwd           -550.5319    945.676     -0.582      0.561   -2416.856    1315.792\n",
      "hardtop      -2626.7836   1167.046     -2.251      0.026   -4929.989    -323.578\n",
      "hatchback    -2665.1861   1001.709     -2.661      0.009   -4642.094    -688.278\n",
      "sedan        -1957.3037   1045.415     -1.872      0.063   -4020.467     105.859\n",
      "wagon        -2129.8817   1143.312     -1.863      0.064   -4386.247     126.484\n",
      "turbo        -2347.9644    604.220     -3.886      0.000   -3540.413   -1155.515\n",
      "gas          -3079.8030    739.891     -4.163      0.000   -4540.003   -1619.603\n",
      "==============================================================================\n",
      "Omnibus:                       41.833   Durbin-Watson:                   1.405\n",
      "Prob(Omnibus):                  0.000   Jarque-Bera (JB):              118.394\n",
      "Skew:                           0.844   Prob(JB):                     1.95e-26\n",
      "Kurtosis:                       6.319   Cond. No.                     1.02e+16\n",
      "==============================================================================\n",
      "\n",
      "Warnings:\n",
      "[1] Standard Errors assume that the covariance matrix of the errors is correctly specified.\n",
      "[2] The smallest eigenvalue is 1.35e-23. This might indicate that there are\n",
      "strong multicollinearity problems or that the design matrix is singular.\n"
     ]
    }
   ],
   "source": [
    "olslinearmodel()"
   ]
  },
  {
   "cell_type": "markdown",
   "metadata": {
    "colab_type": "text",
    "id": "_LWjIyk8fMIq"
   },
   "source": [
    "Removing columns having p-values more than 0.5."
   ]
  },
  {
   "cell_type": "code",
   "execution_count": 52,
   "metadata": {
    "colab": {},
    "colab_type": "code",
    "id": "aervE6isV4Kr"
   },
   "outputs": [],
   "source": [
    "#curbweight carlength"
   ]
  },
  {
   "cell_type": "code",
   "execution_count": 53,
   "metadata": {
    "colab": {},
    "colab_type": "code",
    "id": "W3e0LvxaV4Kv"
   },
   "outputs": [],
   "source": [
    "def olslinearmodel():\n",
    "    import statsmodels.api as sm    \n",
    "    X = temp[['wheelbase',  'carwidth',  'enginesize',\n",
    "       'boreratio', 'horsepower', 'five', 'four', 'six', 'three',\n",
    "       'twelve', 'two', 'Luxury', 'Middle_Range', 'dohcv', 'l', 'ohc', 'ohcf',\n",
    "       'ohcv', 'rotor', 'fwd', 'rwd', 'hardtop', 'hatchback', 'sedan', 'wagon',\n",
    "       'turbo', 'gas']]\n",
    "    X = sm.add_constant(X)\n",
    "    regr2 = sm.OLS(temp['price'],X)\n",
    "    model = regr2.fit()\n",
    "    \n",
    "    print(model.summary())"
   ]
  },
  {
   "cell_type": "code",
   "execution_count": 54,
   "metadata": {
    "colab": {
     "base_uri": "https://localhost:8080/",
     "height": 918
    },
    "colab_type": "code",
    "id": "DMAkmaeSV4Kx",
    "outputId": "8362a6f8-f8d3-4c91-f5b0-090cb2133477"
   },
   "outputs": [
    {
     "name": "stdout",
     "output_type": "stream",
     "text": [
      "                            OLS Regression Results                            \n",
      "==============================================================================\n",
      "Dep. Variable:                  price   R-squared:                       0.952\n",
      "Model:                            OLS   Adj. R-squared:                  0.945\n",
      "Method:                 Least Squares   F-statistic:                     135.3\n",
      "Date:                Sat, 27 Jun 2020   Prob (F-statistic):          3.87e-103\n",
      "Time:                        15:18:04   Log-Likelihood:                -1821.6\n",
      "No. Observations:                 205   AIC:                             3697.\n",
      "Df Residuals:                     178   BIC:                             3787.\n",
      "Df Model:                          26                                         \n",
      "Covariance Type:            nonrobust                                         \n",
      "================================================================================\n",
      "                   coef    std err          t      P>|t|      [0.025      0.975]\n",
      "--------------------------------------------------------------------------------\n",
      "const        -2211.5459   9259.191     -0.239      0.811   -2.05e+04    1.61e+04\n",
      "wheelbase       66.6892     58.083      1.148      0.252     -47.930     181.308\n",
      "carwidth       193.7299    177.017      1.094      0.275    -155.593     543.052\n",
      "enginesize      29.8017     14.826      2.010      0.046       0.543      59.060\n",
      "boreratio    -3018.4298   1279.077     -2.360      0.019   -5542.536    -494.324\n",
      "horsepower     109.0036     12.854      8.480      0.000      83.638     134.369\n",
      "five         -5787.6070   2180.214     -2.655      0.009   -1.01e+04   -1485.215\n",
      "four         -5586.5607   2499.441     -2.235      0.027   -1.05e+04    -654.212\n",
      "six          -7786.2295   1680.990     -4.632      0.000   -1.11e+04   -4468.996\n",
      "three        -3581.0385   3556.941     -1.007      0.315   -1.06e+04    3438.161\n",
      "twelve       -1.382e+04   2523.688     -5.474      0.000   -1.88e+04   -8835.033\n",
      "two          -1748.6896   1532.507     -1.141      0.255   -4772.909    1275.530\n",
      "Luxury        1.134e+04    969.889     11.693      0.000    9427.428    1.33e+04\n",
      "Middle_Range  2026.5674    467.762      4.332      0.000    1103.495    2949.640\n",
      "dohcv        -1.742e+04   3281.788     -5.309      0.000   -2.39e+04   -1.09e+04\n",
      "l             2156.7400    981.535      2.197      0.029     219.798    4093.682\n",
      "ohc           1197.3957    697.210      1.717      0.088    -178.465    2573.256\n",
      "ohcf          1893.3268   1041.612      1.818      0.071    -162.170    3948.824\n",
      "ohcv         -1677.1617   1031.055     -1.627      0.106   -3711.827     357.503\n",
      "rotor        -1748.6896   1532.507     -1.141      0.255   -4772.909    1275.530\n",
      "fwd          -1244.6010    758.369     -1.641      0.103   -2741.153     251.951\n",
      "rwd           -614.0866    909.454     -0.675      0.500   -2408.786    1180.613\n",
      "hardtop      -2688.6146   1119.999     -2.401      0.017   -4898.799    -478.430\n",
      "hatchback    -2704.7045    983.937     -2.749      0.007   -4646.388    -763.021\n",
      "sedan        -1984.5099   1017.272     -1.951      0.053   -3991.975      22.955\n",
      "wagon        -2103.7986   1121.449     -1.876      0.062   -4316.844     109.247\n",
      "turbo        -2331.2096    576.894     -4.041      0.000   -3469.640   -1192.779\n",
      "gas          -3107.5285    728.835     -4.264      0.000   -4545.798   -1669.259\n",
      "==============================================================================\n",
      "Omnibus:                       41.623   Durbin-Watson:                   1.408\n",
      "Prob(Omnibus):                  0.000   Jarque-Bera (JB):              118.102\n",
      "Skew:                           0.838   Prob(JB):                     2.26e-26\n",
      "Kurtosis:                       6.319   Cond. No.                     1.03e+16\n",
      "==============================================================================\n",
      "\n",
      "Warnings:\n",
      "[1] Standard Errors assume that the covariance matrix of the errors is correctly specified.\n",
      "[2] The smallest eigenvalue is 8.4e-26. This might indicate that there are\n",
      "strong multicollinearity problems or that the design matrix is singular.\n"
     ]
    }
   ],
   "source": [
    "olslinearmodel()"
   ]
  },
  {
   "cell_type": "code",
   "execution_count": 55,
   "metadata": {
    "colab": {},
    "colab_type": "code",
    "id": "a9Gz5iBTf4Cz"
   },
   "outputs": [],
   "source": [
    "#rwd three"
   ]
  },
  {
   "cell_type": "code",
   "execution_count": 56,
   "metadata": {
    "colab": {},
    "colab_type": "code",
    "id": "wKUF_NPNV4Kz"
   },
   "outputs": [],
   "source": [
    "def olslinearmodel():\n",
    "    import statsmodels.api as sm    \n",
    "    X = temp[['wheelbase',  'carwidth',  'enginesize',\n",
    "       'boreratio', 'horsepower', 'five', 'four', 'six', \n",
    "       'twelve', 'two', 'Luxury', 'Middle_Range', 'dohcv', 'l', 'ohc', 'ohcf',\n",
    "       'ohcv', 'rotor', 'fwd',  'hardtop', 'hatchback', 'sedan', 'wagon',\n",
    "       'turbo', 'gas']]\n",
    "    X = sm.add_constant(X)\n",
    "    regr2 = sm.OLS(temp['price'],X)\n",
    "    model = regr2.fit()\n",
    "    \n",
    "    print(model.summary())"
   ]
  },
  {
   "cell_type": "code",
   "execution_count": 57,
   "metadata": {
    "colab": {
     "base_uri": "https://localhost:8080/",
     "height": 884
    },
    "colab_type": "code",
    "id": "qKoIikWlV4K1",
    "outputId": "4cec2dc8-c098-4d74-a9cf-6756ae709d91"
   },
   "outputs": [
    {
     "name": "stdout",
     "output_type": "stream",
     "text": [
      "                            OLS Regression Results                            \n",
      "==============================================================================\n",
      "Dep. Variable:                  price   R-squared:                       0.951\n",
      "Model:                            OLS   Adj. R-squared:                  0.945\n",
      "Method:                 Least Squares   F-statistic:                     147.0\n",
      "Date:                Sat, 27 Jun 2020   Prob (F-statistic):          5.31e-105\n",
      "Time:                        15:18:04   Log-Likelihood:                -1822.4\n",
      "No. Observations:                 205   AIC:                             3695.\n",
      "Df Residuals:                     180   BIC:                             3778.\n",
      "Df Model:                          24                                         \n",
      "Covariance Type:            nonrobust                                         \n",
      "================================================================================\n",
      "                   coef    std err          t      P>|t|      [0.025      0.975]\n",
      "--------------------------------------------------------------------------------\n",
      "const        -5197.6331   8727.590     -0.596      0.552   -2.24e+04     1.2e+04\n",
      "wheelbase       67.1208     57.349      1.170      0.243     -46.042     180.284\n",
      "carwidth       229.6001    173.717      1.322      0.188    -113.183     572.383\n",
      "enginesize      38.2322     12.882      2.968      0.003      12.814      63.651\n",
      "boreratio    -3828.0363   1072.066     -3.571      0.000   -5943.470   -1712.603\n",
      "horsepower     106.9896     12.525      8.542      0.000      82.274     131.705\n",
      "five         -4196.7861   1553.844     -2.701      0.008   -7262.878   -1130.694\n",
      "four         -3641.5354   1527.223     -2.384      0.018   -6655.098    -627.973\n",
      "six          -6630.6977   1162.181     -5.705      0.000   -8923.950   -4337.445\n",
      "twelve       -1.392e+04   2517.860     -5.530      0.000   -1.89e+04   -8956.245\n",
      "two           -663.1006   1056.413     -0.628      0.531   -2747.648    1421.447\n",
      "Luxury        1.132e+04    952.310     11.889      0.000    9442.880    1.32e+04\n",
      "Middle_Range  2017.1883    466.039      4.328      0.000    1097.587    2936.790\n",
      "dohcv        -1.573e+04   2924.408     -5.377      0.000   -2.15e+04   -9955.266\n",
      "l             1808.4946    933.197      1.938      0.054     -32.919    3649.908\n",
      "ohc           1192.7354    694.080      1.718      0.087    -176.845    2562.316\n",
      "ohcf          2391.2806    933.419      2.562      0.011     549.430    4233.131\n",
      "ohcv         -1296.9591    957.880     -1.354      0.177   -3187.077     593.159\n",
      "rotor         -663.1006   1056.413     -0.628      0.531   -2747.648    1421.447\n",
      "fwd           -898.5079    410.012     -2.191      0.030   -1707.556     -89.460\n",
      "hardtop      -2767.0254   1114.379     -2.483      0.014   -4965.952    -568.099\n",
      "hatchback    -2756.8591    968.240     -2.847      0.005   -4667.419    -846.299\n",
      "sedan        -1964.9878   1001.334     -1.962      0.051   -3940.851      10.875\n",
      "wagon        -2060.7392   1097.138     -1.878      0.062   -4225.646     104.167\n",
      "turbo        -2273.9296    557.371     -4.080      0.000   -3373.752   -1174.107\n",
      "gas          -2937.6678    705.825     -4.162      0.000   -4330.424   -1544.911\n",
      "==============================================================================\n",
      "Omnibus:                       43.557   Durbin-Watson:                   1.406\n",
      "Prob(Omnibus):                  0.000   Jarque-Bera (JB):              127.414\n",
      "Skew:                           0.868   Prob(JB):                     2.15e-28\n",
      "Kurtosis:                       6.450   Cond. No.                     1.03e+16\n",
      "==============================================================================\n",
      "\n",
      "Warnings:\n",
      "[1] Standard Errors assume that the covariance matrix of the errors is correctly specified.\n",
      "[2] The smallest eigenvalue is 8.4e-26. This might indicate that there are\n",
      "strong multicollinearity problems or that the design matrix is singular.\n"
     ]
    }
   ],
   "source": [
    "olslinearmodel()"
   ]
  },
  {
   "cell_type": "code",
   "execution_count": 58,
   "metadata": {
    "colab": {},
    "colab_type": "code",
    "id": "3J-MfimYgE4M"
   },
   "outputs": [],
   "source": [
    "#rotor two"
   ]
  },
  {
   "cell_type": "code",
   "execution_count": 59,
   "metadata": {
    "colab": {},
    "colab_type": "code",
    "id": "0gpkxbt2V4K3"
   },
   "outputs": [],
   "source": [
    "def olslinearmodel():\n",
    "    import statsmodels.api as sm    \n",
    "    X = temp[['wheelbase',  'carwidth',  'enginesize',\n",
    "       'boreratio', 'horsepower', 'five', 'four', 'six', \n",
    "       'twelve', 'Luxury', 'Middle_Range', 'dohcv', 'l', 'ohc', 'ohcf',\n",
    "       'ohcv',  'fwd',  'hardtop', 'hatchback', 'sedan', 'wagon',\n",
    "       'turbo', 'gas']]\n",
    "    X = sm.add_constant(X)\n",
    "    regr2 = sm.OLS(temp['price'],X)\n",
    "    model = regr2.fit()\n",
    "    \n",
    "    print(model.summary())"
   ]
  },
  {
   "cell_type": "code",
   "execution_count": 60,
   "metadata": {
    "colab": {
     "base_uri": "https://localhost:8080/",
     "height": 850
    },
    "colab_type": "code",
    "id": "12hbiQM_V4K8",
    "outputId": "3edd4731-c424-4f3d-a29f-f1215d115964"
   },
   "outputs": [
    {
     "name": "stdout",
     "output_type": "stream",
     "text": [
      "                            OLS Regression Results                            \n",
      "==============================================================================\n",
      "Dep. Variable:                  price   R-squared:                       0.951\n",
      "Model:                            OLS   Adj. R-squared:                  0.945\n",
      "Method:                 Least Squares   F-statistic:                     153.9\n",
      "Date:                Sat, 27 Jun 2020   Prob (F-statistic):          5.14e-106\n",
      "Time:                        15:18:04   Log-Likelihood:                -1822.6\n",
      "No. Observations:                 205   AIC:                             3693.\n",
      "Df Residuals:                     181   BIC:                             3773.\n",
      "Df Model:                          23                                         \n",
      "Covariance Type:            nonrobust                                         \n",
      "================================================================================\n",
      "                   coef    std err          t      P>|t|      [0.025      0.975]\n",
      "--------------------------------------------------------------------------------\n",
      "const        -4525.6638   8647.172     -0.523      0.601   -2.16e+04    1.25e+04\n",
      "wheelbase       68.5963     57.205      1.199      0.232     -44.278     181.471\n",
      "carwidth       209.6367    170.494      1.230      0.220    -126.775     546.049\n",
      "enginesize      42.7503     10.665      4.008      0.000      21.706      63.794\n",
      "boreratio    -4074.0547    996.179     -4.090      0.000   -6039.673   -2108.437\n",
      "horsepower     106.3755     12.466      8.533      0.000      81.778     130.973\n",
      "five         -3533.2311   1136.903     -3.108      0.002   -5776.520   -1289.942\n",
      "four         -2909.8998    985.153     -2.954      0.004   -4853.761    -966.038\n",
      "six          -6153.4364    877.471     -7.013      0.000   -7884.824   -4422.049\n",
      "twelve       -1.405e+04   2506.078     -5.605      0.000    -1.9e+04   -9102.194\n",
      "Luxury        1.135e+04    949.509     11.956      0.000    9478.567    1.32e+04\n",
      "Middle_Range  1998.8724    464.345      4.305      0.000    1082.647    2915.098\n",
      "dohcv        -1.491e+04   2616.575     -5.699      0.000   -2.01e+04   -9748.651\n",
      "l             2005.6158    877.297      2.286      0.023     274.572    3736.660\n",
      "ohc           1272.6092    681.172      1.868      0.063     -71.451    2616.669\n",
      "ohcf          2562.3056    891.271      2.875      0.005     803.689    4320.923\n",
      "ohcv         -1090.9606    898.397     -1.214      0.226   -2863.639     681.717\n",
      "fwd           -886.1382    408.852     -2.167      0.032   -1692.867     -79.409\n",
      "hardtop      -2843.8347   1105.784     -2.572      0.011   -5025.721    -661.949\n",
      "hatchback    -2819.6309    961.448     -2.933      0.004   -4716.718    -922.543\n",
      "sedan        -2006.3636    997.488     -2.011      0.046   -3974.564     -38.164\n",
      "wagon        -2110.4077   1092.447     -1.932      0.055   -4265.978      45.163\n",
      "turbo        -2250.5325    555.192     -4.054      0.000   -3346.013   -1155.052\n",
      "gas          -2864.0139    694.837     -4.122      0.000   -4235.037   -1492.991\n",
      "==============================================================================\n",
      "Omnibus:                       44.155   Durbin-Watson:                   1.404\n",
      "Prob(Omnibus):                  0.000   Jarque-Bera (JB):              127.606\n",
      "Skew:                           0.885   Prob(JB):                     1.95e-28\n",
      "Kurtosis:                       6.436   Cond. No.                     1.38e+04\n",
      "==============================================================================\n",
      "\n",
      "Warnings:\n",
      "[1] Standard Errors assume that the covariance matrix of the errors is correctly specified.\n",
      "[2] The condition number is large, 1.38e+04. This might indicate that there are\n",
      "strong multicollinearity or other numerical problems.\n"
     ]
    }
   ],
   "source": [
    "olslinearmodel()"
   ]
  },
  {
   "cell_type": "code",
   "execution_count": 61,
   "metadata": {
    "colab": {},
    "colab_type": "code",
    "id": "clO1szOugLpJ"
   },
   "outputs": [],
   "source": [
    "#ohcv wheelbase"
   ]
  },
  {
   "cell_type": "code",
   "execution_count": 62,
   "metadata": {
    "colab": {},
    "colab_type": "code",
    "id": "I8luxl3CV4LF"
   },
   "outputs": [],
   "source": [
    "def olslinearmodel():\n",
    "    import statsmodels.api as sm    \n",
    "    X = temp[[ 'carwidth',  'enginesize',\n",
    "       'boreratio', 'horsepower', 'five', 'four', 'six', \n",
    "       'twelve', 'Luxury', 'Middle_Range', 'dohcv', 'l', 'ohc', 'ohcf',\n",
    "         'fwd',  'hardtop', 'hatchback', 'sedan', 'wagon',\n",
    "       'turbo', 'gas']]\n",
    "    X = sm.add_constant(X)\n",
    "    regr2 = sm.OLS(temp['price'],X)\n",
    "    model = regr2.fit()\n",
    "    \n",
    "    print(model.summary())"
   ]
  },
  {
   "cell_type": "code",
   "execution_count": 63,
   "metadata": {
    "colab": {
     "base_uri": "https://localhost:8080/",
     "height": 816
    },
    "colab_type": "code",
    "id": "FwcMmsdPV4LI",
    "outputId": "db3efbd5-a353-41dc-f5dc-d2c0f47a0464"
   },
   "outputs": [
    {
     "name": "stdout",
     "output_type": "stream",
     "text": [
      "                            OLS Regression Results                            \n",
      "==============================================================================\n",
      "Dep. Variable:                  price   R-squared:                       0.950\n",
      "Model:                            OLS   Adj. R-squared:                  0.945\n",
      "Method:                 Least Squares   F-statistic:                     166.5\n",
      "Date:                Sat, 27 Jun 2020   Prob (F-statistic):          2.16e-107\n",
      "Time:                        15:18:04   Log-Likelihood:                -1824.8\n",
      "No. Observations:                 205   AIC:                             3694.\n",
      "Df Residuals:                     183   BIC:                             3767.\n",
      "Df Model:                          21                                         \n",
      "Covariance Type:            nonrobust                                         \n",
      "================================================================================\n",
      "                   coef    std err          t      P>|t|      [0.025      0.975]\n",
      "--------------------------------------------------------------------------------\n",
      "const        -5109.1293   8574.160     -0.596      0.552    -2.2e+04    1.18e+04\n",
      "carwidth       297.6120    140.448      2.119      0.035      20.507     574.717\n",
      "enginesize      40.8693      9.068      4.507      0.000      22.978      58.760\n",
      "boreratio    -3807.6473    990.310     -3.845      0.000   -5761.540   -1853.754\n",
      "horsepower     106.0816     11.748      9.030      0.000      82.902     129.261\n",
      "five         -3233.6145   1111.331     -2.910      0.004   -5426.284   -1040.945\n",
      "four         -2575.9026    969.313     -2.657      0.009   -4488.370    -663.436\n",
      "six          -6103.9899    880.700     -6.931      0.000   -7841.622   -4366.358\n",
      "twelve       -1.487e+04   2470.358     -6.019      0.000   -1.97e+04   -9994.316\n",
      "Luxury        1.174e+04    932.126     12.596      0.000    9902.170    1.36e+04\n",
      "Middle_Range  2084.1446    463.324      4.498      0.000    1170.001    2998.288\n",
      "dohcv        -1.523e+04   2600.637     -5.855      0.000   -2.04e+04   -1.01e+04\n",
      "l             2556.2900    835.626      3.059      0.003     907.589    4204.991\n",
      "ohc           1528.8046    648.028      2.359      0.019     250.238    2807.371\n",
      "ohcf          2561.9530    863.897      2.966      0.003     857.473    4266.433\n",
      "fwd          -1039.7337    401.311     -2.591      0.010   -1831.525    -247.942\n",
      "hardtop      -2569.9645   1082.818     -2.373      0.019   -4706.377    -433.552\n",
      "hatchback    -2421.7238    913.442     -2.651      0.009   -4223.955    -619.493\n",
      "sedan        -1466.5620    900.045     -1.629      0.105   -3242.362     309.238\n",
      "wagon        -1487.0864    971.602     -1.531      0.128   -3404.069     429.896\n",
      "turbo        -2324.4675    549.757     -4.228      0.000   -3409.145   -1239.790\n",
      "gas          -2946.3104    685.354     -4.299      0.000   -4298.521   -1594.099\n",
      "==============================================================================\n",
      "Omnibus:                       43.155   Durbin-Watson:                   1.408\n",
      "Prob(Omnibus):                  0.000   Jarque-Bera (JB):              129.943\n",
      "Skew:                           0.849   Prob(JB):                     6.07e-29\n",
      "Kurtosis:                       6.512   Cond. No.                     1.21e+04\n",
      "==============================================================================\n",
      "\n",
      "Warnings:\n",
      "[1] Standard Errors assume that the covariance matrix of the errors is correctly specified.\n",
      "[2] The condition number is large, 1.21e+04. This might indicate that there are\n",
      "strong multicollinearity or other numerical problems.\n"
     ]
    }
   ],
   "source": [
    "olslinearmodel()"
   ]
  },
  {
   "cell_type": "code",
   "execution_count": 64,
   "metadata": {
    "colab": {},
    "colab_type": "code",
    "id": "FxIdCSfjgQ3-"
   },
   "outputs": [],
   "source": [
    "#sedan wagon"
   ]
  },
  {
   "cell_type": "code",
   "execution_count": 65,
   "metadata": {
    "colab": {},
    "colab_type": "code",
    "id": "xvrD0HQtV4LO"
   },
   "outputs": [],
   "source": [
    "def olslinearmodel():\n",
    "    import statsmodels.api as sm    \n",
    "    X = temp[[ 'carwidth',  'enginesize',\n",
    "       'boreratio', 'horsepower', 'five', 'four', 'six', \n",
    "       'twelve', 'Luxury', 'Middle_Range', 'dohcv', 'l', 'ohc', 'ohcf',\n",
    "         'fwd',  'hardtop', 'hatchback', \n",
    "       'turbo', 'gas']]\n",
    "    X = sm.add_constant(X)\n",
    "    regr2 = sm.OLS(temp['price'],X)\n",
    "    model = regr2.fit()\n",
    "    \n",
    "    print(model.summary())"
   ]
  },
  {
   "cell_type": "code",
   "execution_count": 66,
   "metadata": {
    "colab": {
     "base_uri": "https://localhost:8080/",
     "height": 782
    },
    "colab_type": "code",
    "id": "5M-h1vzSV4LS",
    "outputId": "c50dcbe8-a7ac-43c6-e1de-8381e2e5161e"
   },
   "outputs": [
    {
     "name": "stdout",
     "output_type": "stream",
     "text": [
      "                            OLS Regression Results                            \n",
      "==============================================================================\n",
      "Dep. Variable:                  price   R-squared:                       0.950\n",
      "Model:                            OLS   Adj. R-squared:                  0.944\n",
      "Method:                 Least Squares   F-statistic:                     183.3\n",
      "Date:                Sat, 27 Jun 2020   Prob (F-statistic):          4.43e-109\n",
      "Time:                        15:18:04   Log-Likelihood:                -1826.3\n",
      "No. Observations:                 205   AIC:                             3693.\n",
      "Df Residuals:                     185   BIC:                             3759.\n",
      "Df Model:                          19                                         \n",
      "Covariance Type:            nonrobust                                         \n",
      "================================================================================\n",
      "                   coef    std err          t      P>|t|      [0.025      0.975]\n",
      "--------------------------------------------------------------------------------\n",
      "const        -1506.3708   8290.947     -0.182      0.856   -1.79e+04    1.49e+04\n",
      "carwidth       223.4675    133.064      1.679      0.095     -39.051     485.986\n",
      "enginesize      42.8636      8.989      4.769      0.000      25.130      60.597\n",
      "boreratio    -3984.9997    986.087     -4.041      0.000   -5930.421   -2039.578\n",
      "horsepower     108.5229     11.618      9.341      0.000      85.602     131.444\n",
      "five         -3051.2496   1106.912     -2.757      0.006   -5235.043    -867.457\n",
      "four         -2345.5811    960.834     -2.441      0.016   -4241.182    -449.980\n",
      "six          -6374.1255    866.023     -7.360      0.000   -8082.677   -4665.574\n",
      "twelve       -1.567e+04   2425.521     -6.461      0.000   -2.05e+04   -1.09e+04\n",
      "Luxury        1.213e+04    896.803     13.531      0.000    1.04e+04    1.39e+04\n",
      "Middle_Range  2252.4366    452.626      4.976      0.000    1359.465    3145.408\n",
      "dohcv        -1.559e+04   2588.260     -6.024      0.000   -2.07e+04   -1.05e+04\n",
      "l             2399.1782    831.041      2.887      0.004     759.643    4038.713\n",
      "ohc           1313.7497    635.752      2.066      0.040      59.494    2568.005\n",
      "ohcf          2449.4886    859.632      2.849      0.005     753.546    4145.431\n",
      "fwd          -1071.4839    399.567     -2.682      0.008   -1859.778    -283.190\n",
      "hardtop      -1319.7224    769.349     -1.715      0.088   -2837.549     198.104\n",
      "hatchback    -1014.7140    311.594     -3.257      0.001   -1629.448    -399.980\n",
      "turbo        -2466.4559    542.930     -4.543      0.000   -3537.586   -1395.326\n",
      "gas          -3033.9835    680.878     -4.456      0.000   -4377.268   -1690.699\n",
      "==============================================================================\n",
      "Omnibus:                       38.277   Durbin-Watson:                   1.447\n",
      "Prob(Omnibus):                  0.000   Jarque-Bera (JB):              107.087\n",
      "Skew:                           0.771   Prob(JB):                     5.58e-24\n",
      "Kurtosis:                       6.187   Cond. No.                     1.17e+04\n",
      "==============================================================================\n",
      "\n",
      "Warnings:\n",
      "[1] Standard Errors assume that the covariance matrix of the errors is correctly specified.\n",
      "[2] The condition number is large, 1.17e+04. This might indicate that there are\n",
      "strong multicollinearity or other numerical problems.\n"
     ]
    }
   ],
   "source": [
    "olslinearmodel()"
   ]
  },
  {
   "cell_type": "code",
   "execution_count": 67,
   "metadata": {
    "colab": {},
    "colab_type": "code",
    "id": "Lmeqak4pgyIY"
   },
   "outputs": [],
   "source": [
    "#carwidth hardtop"
   ]
  },
  {
   "cell_type": "code",
   "execution_count": 68,
   "metadata": {
    "colab": {},
    "colab_type": "code",
    "id": "g7ObAzPpV4LX"
   },
   "outputs": [],
   "source": [
    "def olslinearmodel():\n",
    "    import statsmodels.api as sm    \n",
    "    X = temp[['enginesize',\n",
    "       'boreratio', 'horsepower', 'five', 'four', 'six', \n",
    "       'twelve', 'Luxury', 'Middle_Range', 'dohcv', 'l', 'ohc', 'ohcf',\n",
    "         'fwd', 'hatchback', \n",
    "       'turbo', 'gas']]\n",
    "    X = sm.add_constant(X)\n",
    "    regr2 = sm.OLS(temp['price'],X)\n",
    "    model = regr2.fit()\n",
    "    \n",
    "    print(model.summary())"
   ]
  },
  {
   "cell_type": "code",
   "execution_count": 69,
   "metadata": {
    "colab": {
     "base_uri": "https://localhost:8080/",
     "height": 748
    },
    "colab_type": "code",
    "id": "uY1RSo7nV4LZ",
    "outputId": "4c5a56bf-a476-4998-f1e2-3c80aa28d1df"
   },
   "outputs": [
    {
     "name": "stdout",
     "output_type": "stream",
     "text": [
      "                            OLS Regression Results                            \n",
      "==============================================================================\n",
      "Dep. Variable:                  price   R-squared:                       0.948\n",
      "Model:                            OLS   Adj. R-squared:                  0.943\n",
      "Method:                 Least Squares   F-statistic:                     198.9\n",
      "Date:                Sat, 27 Jun 2020   Prob (F-statistic):          7.22e-110\n",
      "Time:                        15:18:04   Log-Likelihood:                -1830.2\n",
      "No. Observations:                 205   AIC:                             3696.\n",
      "Df Residuals:                     187   BIC:                             3756.\n",
      "Df Model:                          17                                         \n",
      "Covariance Type:            nonrobust                                         \n",
      "================================================================================\n",
      "                   coef    std err          t      P>|t|      [0.025      0.975]\n",
      "--------------------------------------------------------------------------------\n",
      "const         1.161e+04   2818.166      4.118      0.000    6046.677    1.72e+04\n",
      "enginesize      47.3514      8.523      5.556      0.000      30.538      64.165\n",
      "boreratio    -3651.8959    986.216     -3.703      0.000   -5597.436   -1706.356\n",
      "horsepower     104.6243     11.492      9.104      0.000      81.954     127.294\n",
      "five         -2433.1005   1080.681     -2.251      0.026   -4564.993    -301.208\n",
      "four         -2226.6021    972.070     -2.291      0.023   -4144.234    -308.970\n",
      "six          -6347.3098    850.192     -7.466      0.000   -8024.511   -4670.109\n",
      "twelve       -1.524e+04   2389.365     -6.378      0.000      -2e+04   -1.05e+04\n",
      "Luxury        1.266e+04    879.502     14.395      0.000    1.09e+04    1.44e+04\n",
      "Middle_Range  2611.4954    436.798      5.979      0.000    1749.810    3473.181\n",
      "dohcv        -1.429e+04   2574.018     -5.551      0.000   -1.94e+04   -9209.313\n",
      "l             2431.0780    832.561      2.920      0.004     788.659    4073.497\n",
      "ohc           1008.1679    633.764      1.591      0.113    -242.077    2258.413\n",
      "ohcf          1870.2639    842.210      2.221      0.028     208.810    3531.718\n",
      "fwd           -922.7321    401.025     -2.301      0.022   -1713.847    -131.618\n",
      "hatchback     -986.5905    314.521     -3.137      0.002   -1607.056    -366.125\n",
      "turbo        -2263.9766    542.835     -4.171      0.000   -3334.845   -1193.108\n",
      "gas          -2948.4499    679.719     -4.338      0.000   -4289.352   -1607.548\n",
      "==============================================================================\n",
      "Omnibus:                       36.870   Durbin-Watson:                   1.411\n",
      "Prob(Omnibus):                  0.000   Jarque-Bera (JB):              118.949\n",
      "Skew:                           0.688   Prob(JB):                     1.48e-26\n",
      "Kurtosis:                       6.469   Cond. No.                     4.12e+03\n",
      "==============================================================================\n",
      "\n",
      "Warnings:\n",
      "[1] Standard Errors assume that the covariance matrix of the errors is correctly specified.\n",
      "[2] The condition number is large, 4.12e+03. This might indicate that there are\n",
      "strong multicollinearity or other numerical problems.\n"
     ]
    }
   ],
   "source": [
    "olslinearmodel()"
   ]
  },
  {
   "cell_type": "code",
   "execution_count": 70,
   "metadata": {
    "colab": {},
    "colab_type": "code",
    "id": "lBKR3Ez3hANS"
   },
   "outputs": [],
   "source": [
    "#l"
   ]
  },
  {
   "cell_type": "code",
   "execution_count": 71,
   "metadata": {
    "colab": {},
    "colab_type": "code",
    "id": "6fC3mWrkV4Ld"
   },
   "outputs": [],
   "source": [
    "def olslinearmodel():\n",
    "    import statsmodels.api as sm    \n",
    "    X = temp[[ 'enginesize',\n",
    "       'boreratio', 'horsepower', 'five',  'six', \n",
    "       'twelve', 'Luxury', 'Middle_Range', 'dohcv','ohcf',\n",
    "         'fwd', 'hatchback', \n",
    "       'turbo', 'gas']]\n",
    "    X = sm.add_constant(X)\n",
    "    regr2 = sm.OLS(temp['price'],X)\n",
    "    model = regr2.fit()\n",
    "    \n",
    "    print(model.summary())"
   ]
  },
  {
   "cell_type": "code",
   "execution_count": 72,
   "metadata": {
    "colab": {
     "base_uri": "https://localhost:8080/",
     "height": 697
    },
    "colab_type": "code",
    "id": "SUZ-0WpbV4Lh",
    "outputId": "8bc75650-3e22-4ad7-dc5c-eafddbdcbf35"
   },
   "outputs": [
    {
     "name": "stdout",
     "output_type": "stream",
     "text": [
      "                            OLS Regression Results                            \n",
      "==============================================================================\n",
      "Dep. Variable:                  price   R-squared:                       0.944\n",
      "Model:                            OLS   Adj. R-squared:                  0.940\n",
      "Method:                 Least Squares   F-statistic:                     229.5\n",
      "Date:                Sat, 27 Jun 2020   Prob (F-statistic):          8.18e-111\n",
      "Time:                        15:18:04   Log-Likelihood:                -1836.7\n",
      "No. Observations:                 205   AIC:                             3703.\n",
      "Df Residuals:                     190   BIC:                             3753.\n",
      "Df Model:                          14                                         \n",
      "Covariance Type:            nonrobust                                         \n",
      "================================================================================\n",
      "                   coef    std err          t      P>|t|      [0.025      0.975]\n",
      "--------------------------------------------------------------------------------\n",
      "const         1.176e+04   2885.232      4.076      0.000    6069.540    1.75e+04\n",
      "enginesize      48.8593      8.586      5.690      0.000      31.923      65.796\n",
      "boreratio    -3922.9534    963.377     -4.072      0.000   -5823.242   -2022.664\n",
      "horsepower     100.1086     11.046      9.063      0.000      78.320     121.897\n",
      "five          -730.0533    713.642     -1.023      0.308   -2137.733     677.626\n",
      "six          -5196.9596    717.798     -7.240      0.000   -6612.835   -3781.084\n",
      "twelve       -1.447e+04   2435.636     -5.942      0.000   -1.93e+04   -9667.474\n",
      "Luxury        1.347e+04    803.687     16.765      0.000    1.19e+04    1.51e+04\n",
      "Middle_Range  2929.0838    435.931      6.719      0.000    2069.197    3788.971\n",
      "dohcv        -1.314e+04   2606.670     -5.041      0.000   -1.83e+04   -7999.535\n",
      "ohcf           983.0067    640.614      1.534      0.127    -280.622    2246.635\n",
      "fwd          -1204.2242    388.135     -3.103      0.002   -1969.832    -438.616\n",
      "hatchback     -954.0157    315.709     -3.022      0.003   -1576.761    -331.270\n",
      "turbo        -2246.2733    519.897     -4.321      0.000   -3271.784   -1220.762\n",
      "gas          -3032.1859    691.292     -4.386      0.000   -4395.779   -1668.593\n",
      "==============================================================================\n",
      "Omnibus:                       38.149   Durbin-Watson:                   1.264\n",
      "Prob(Omnibus):                  0.000   Jarque-Bera (JB):              138.102\n",
      "Skew:                           0.673   Prob(JB):                     1.03e-30\n",
      "Kurtosis:                       6.789   Cond. No.                     4.11e+03\n",
      "==============================================================================\n",
      "\n",
      "Warnings:\n",
      "[1] Standard Errors assume that the covariance matrix of the errors is correctly specified.\n",
      "[2] The condition number is large, 4.11e+03. This might indicate that there are\n",
      "strong multicollinearity or other numerical problems.\n"
     ]
    }
   ],
   "source": [
    "olslinearmodel()"
   ]
  },
  {
   "cell_type": "code",
   "execution_count": 73,
   "metadata": {
    "colab": {},
    "colab_type": "code",
    "id": "Xq2GRbKrhC61"
   },
   "outputs": [],
   "source": [
    "#ohcf"
   ]
  },
  {
   "cell_type": "code",
   "execution_count": 74,
   "metadata": {
    "colab": {},
    "colab_type": "code",
    "id": "284YyTGUV4Lk"
   },
   "outputs": [],
   "source": [
    "def olslinearmodel():\n",
    "    import statsmodels.api as sm    \n",
    "    X = temp[[   'enginesize','boreratio','horsepower','six','twelve','Luxury',\n",
    "              'Middle_Range','dohcv','fwd', 'hatchback', 'turbo', 'gas']]\n",
    "    X = sm.add_constant(X)\n",
    "    regr2 = sm.OLS(temp['price'],X)\n",
    "    model = regr2.fit()\n",
    "    \n",
    "    print(model.summary())"
   ]
  },
  {
   "cell_type": "code",
   "execution_count": 75,
   "metadata": {
    "colab": {
     "base_uri": "https://localhost:8080/",
     "height": 663
    },
    "colab_type": "code",
    "id": "KMxhSXgqV4Lm",
    "outputId": "7d46aba4-0987-4598-dea5-1a37c1da1f5e"
   },
   "outputs": [
    {
     "name": "stdout",
     "output_type": "stream",
     "text": [
      "                            OLS Regression Results                            \n",
      "==============================================================================\n",
      "Dep. Variable:                  price   R-squared:                       0.943\n",
      "Model:                            OLS   Adj. R-squared:                  0.940\n",
      "Method:                 Least Squares   F-statistic:                     266.0\n",
      "Date:                Sat, 27 Jun 2020   Prob (F-statistic):          1.41e-112\n",
      "Time:                        15:18:04   Log-Likelihood:                -1838.4\n",
      "No. Observations:                 205   AIC:                             3703.\n",
      "Df Residuals:                     192   BIC:                             3746.\n",
      "Df Model:                          12                                         \n",
      "Covariance Type:            nonrobust                                         \n",
      "================================================================================\n",
      "                   coef    std err          t      P>|t|      [0.025      0.975]\n",
      "--------------------------------------------------------------------------------\n",
      "const         9066.6922   2449.226      3.702      0.000    4235.847    1.39e+04\n",
      "enginesize      44.7292      8.187      5.463      0.000      28.581      60.878\n",
      "boreratio    -2943.1217    786.074     -3.744      0.000   -4493.571   -1392.672\n",
      "horsepower      99.1913     10.958      9.052      0.000      77.578     120.804\n",
      "six          -4722.2429    656.555     -7.192      0.000   -6017.230   -3427.256\n",
      "twelve       -1.357e+04   2376.972     -5.707      0.000   -1.83e+04   -8876.907\n",
      "Luxury        1.326e+04    774.130     17.131      0.000    1.17e+04    1.48e+04\n",
      "Middle_Range  2700.6491    416.760      6.480      0.000    1878.633    3522.665\n",
      "dohcv        -1.312e+04   2583.497     -5.077      0.000   -1.82e+04   -8020.083\n",
      "fwd          -1145.1194    386.398     -2.964      0.003   -1907.250    -382.989\n",
      "hatchback     -949.0028    315.249     -3.010      0.003   -1570.799    -327.207\n",
      "turbo        -2269.5673    521.107     -4.355      0.000   -3297.396   -1241.738\n",
      "gas          -2914.0603    686.007     -4.248      0.000   -4267.137   -1560.983\n",
      "==============================================================================\n",
      "Omnibus:                       32.188   Durbin-Watson:                   1.280\n",
      "Prob(Omnibus):                  0.000   Jarque-Bera (JB):              119.163\n",
      "Skew:                           0.530   Prob(JB):                     1.33e-26\n",
      "Kurtosis:                       6.581   Cond. No.                     3.63e+03\n",
      "==============================================================================\n",
      "\n",
      "Warnings:\n",
      "[1] Standard Errors assume that the covariance matrix of the errors is correctly specified.\n",
      "[2] The condition number is large, 3.63e+03. This might indicate that there are\n",
      "strong multicollinearity or other numerical problems.\n"
     ]
    }
   ],
   "source": [
    "olslinearmodel()"
   ]
  },
  {
   "cell_type": "markdown",
   "metadata": {
    "colab_type": "text",
    "id": "FbE9pp3CiM_h"
   },
   "source": [
    "Now, there are no columns having P-value greater than 0.05.\n",
    "Hence, this is the final **Linear Regression** Model."
   ]
  },
  {
   "cell_type": "markdown",
   "metadata": {
    "colab_type": "text",
    "id": "nFcTAEPvilfi"
   },
   "source": [
    "#**Desision Tree Regression**"
   ]
  },
  {
   "cell_type": "code",
   "execution_count": 76,
   "metadata": {
    "colab": {},
    "colab_type": "code",
    "id": "Cug5PnM2V4MV"
   },
   "outputs": [],
   "source": [
    "def Decision_Tree():\n",
    "    from sklearn.tree import DecisionTreeRegressor\n",
    "    from sklearn.metrics import mean_squared_error, r2_score\n",
    "    import matplotlib.pyplot as plt\n",
    "    \n",
    "\n",
    "    #Model fitting on training set\n",
    "    reg = DecisionTreeRegressor(criterion=\"mse\",max_depth=2,random_state=10)\n",
    "    reg.fit(x_train,y_train)\n",
    "    \n",
    "    #prediction for train test and test test\n",
    "    y_pred_train = reg.predict(x_train)\n",
    "    y_pred_test = reg.predict(x_test)\n",
    "    \n",
    "    #Training and Testing MSE and RMSE\n",
    "    train_mse = np.mean((y_train - reg.predict(x_train)) ** 2)\n",
    "    test_mse = np.mean((y_test - reg.predict(x_test))** 2)\n",
    "    print('               Decision_Tree        ')\n",
    "    print(\"Train MSE is\",train_mse)\n",
    "    print(\"Test MSE is\",test_mse)\n",
    "    print(\"Train RMSE is:\",np.sqrt(train_mse))\n",
    "    print(\"Test RMSE is\",np.sqrt(test_mse))\n",
    "    \n",
    "    \n",
    "    #r2 Score value\n",
    "    r2 = r2_score(y_test,y_pred_test)\n",
    "    print(\"r2 score is\",r2)\n",
    "    \n",
    "    print('               Decision_Tree        ')\n",
    "    #Plotting Residual Plot\n",
    "    residual=y_train-y_pred_train\n",
    "    residual=residual.values.reshape(len(residual),1)\n",
    "    plt.scatter(y_train,residual,c = \"red\")\n",
    "    plt.xlabel(\"residual\")\n",
    "    plt.ylabel(\"y_test\")\n",
    "    plt.axhline(y = 0)\n",
    "    #Checming Normality Condition\n",
    "    import scipy as sp\n",
    "    fig, ax = plt.subplots(figsize=(6,3))\n",
    "    _, (__, ___, r) = sp.stats.probplot(residual.reshape((len(residual),)), plot=ax, fit=True)"
   ]
  },
  {
   "cell_type": "code",
   "execution_count": 77,
   "metadata": {
    "colab": {
     "base_uri": "https://localhost:8080/",
     "height": 641
    },
    "colab_type": "code",
    "id": "BGtUHgfCV4MW",
    "outputId": "63096e87-a6aa-42d8-822f-b73fea8e0e32"
   },
   "outputs": [
    {
     "name": "stdout",
     "output_type": "stream",
     "text": [
      "               Decision_Tree        \n",
      "Train MSE is 4670413.8932767315\n",
      "Test MSE is 8800355.337996675\n",
      "Train RMSE is: 2161.1140398592415\n",
      "Test RMSE is 2966.5392864407972\n",
      "r2 score is 0.8857672024293526\n",
      "               Decision_Tree        \n",
      "None\n"
     ]
    },
    {
     "data": {
      "image/png": "[encoded data removed]",
      "text/plain": [
       "<Figure size 432x288 with 1 Axes>"
      ]
     },
     "metadata": {
      "needs_background": "light",
      "tags": []
     },
     "output_type": "display_data"
    },
    {
     "data": {
      "image/png": "[encoded data removed]",
      "text/plain": [
       "<Figure size 432x216 with 1 Axes>"
      ]
     },
     "metadata": {
      "needs_background": "light",
      "tags": []
     },
     "output_type": "display_data"
    }
   ],
   "source": [
    "print(Decision_Tree())"
   ]
  },
  {
   "cell_type": "markdown",
   "metadata": {
    "colab_type": "text",
    "id": "0g3ZDzpGj3U3"
   },
   "source": [
    "#Model Comparison"
   ]
  },
  {
   "cell_type": "markdown",
   "metadata": {
    "colab_type": "text",
    "id": "8nHIK43-V4MY"
   },
   "source": [
    "| Algorithm | Train RMSE | Test RMSE | R2 Score|\n",
    "| --- | --- | --- | --- |\n",
    "| Linear Regression | 1691.64 | 2278.31 | 0.943 |\n",
    "| Decision Regression | 2161.11 | 2966.53 | 0.8857 |\n"
   ]
  },
  {
   "cell_type": "markdown",
   "metadata": {
    "colab_type": "text",
    "id": "SVITReeAV4Ma"
   },
   "source": [
    "After comparing both the linear and decision tree regression model as a result we found **Linear Regression** as an optimal solution for this problem which fits best fot this dataset."
   ]
  }
 ],
 "metadata": {
  "colab": {
   "collapsed_sections": [],
   "name": "ML_Project2.ipynb",
   "provenance": [],
   "toc_visible": true
  },
  "kernelspec": {
   "display_name": "Python 3",
   "language": "python",
   "name": "python3"
  },
  "language_info": {
   "codemirror_mode": {
    "name": "ipython",
    "version": 3
   },
   "file_extension": ".py",
   "mimetype": "text/x-python",
   "name": "python",
   "nbconvert_exporter": "python",
   "pygments_lexer": "ipython3",
   "version": "3.7.4"
  }
 },
 "nbformat": 4,
 "nbformat_minor": 1
}
